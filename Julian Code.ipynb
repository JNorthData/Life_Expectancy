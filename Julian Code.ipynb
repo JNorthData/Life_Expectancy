{
 "cells": [
  {
   "cell_type": "code",
   "execution_count": null,
   "metadata": {},
   "outputs": [],
   "source": [
    "import pandas as pd\n",
    "import folium\n",
    "import requests\n",
    "\n",
    "\n",
    "df = pd.read_csv('ndicators.csv')\n",
    "print(df)\n",
    "\n",
    "df.head\n",
    "\n",
    "df['Year'].min(), df['Year'].max()\n",
    "\n",
    "df[df['IndicatorName'].str.startswith(“L”)] ['IndicatorName']\n",
    "\n",
    "INDICATOR = 'Life expectancy at birth, total (years)'\n",
    "data = df[df['IndicatorName' ==INDICATOR]\n",
    "max_year = data['Year'].max()\n",
    "data = data[data['Year'] == max_year]\n",
    "data.head()\n",
    "\n",
    "map_data = data['CountryCode', 'Value']\n",
    "map_data.head()\n",
    "\n",
    "geojson_url = 'https://raw.githubusercontent.com/python-visualization/folium/main/examples/data/world-countries.json'\n",
    "response = requests.get(geojson_url)\n",
    "geojson = response.json ()\n",
    "geojson\n",
    "geojson['features'][0]\n",
    "\n",
    "M = folium.Map(location=[20, 10], zoom_start=2)\n",
    "folium.Choropleth(\n",
    "    geo_data=geojson,\n",
    "    data=map_data,\n",
    "    columns=['CountryCode', 'Value'],\n",
    "    key_on='feature.id',\n",
    "    fill_color='YlGnBu',\n",
    "    fill_opacity=1,\n",
    "    line_opacity=0.2,\n",
    "    legend_name=INDICATOR\n",
    ").add_to(M)\n",
    "M"
   ]
  },
  {
   "cell_type": "code",
   "execution_count": null,
   "metadata": {},
   "outputs": [],
   "source": [
    "import pandas as pd\n",
    "import matplotlib.pyplot as plt\n",
    "\n",
    "data = {\n",
    "    'country_code': ['USA',  'Mex', 'EGY', 'TCD'],\n",
    "    'life_expectancy': [79.5, 80.1, 48, 38]\n",
    "}\n",
    "map_data = pd.DataFrame(data)\n",
    "map_data.sort_values(by='life_expectancy', ascending=False, inplace=True)\n",
    "plt.figure(figsize=(10, 6))\n",
    "plt.bar(map_data['country_code'], map_data['life_expectancy'])\n",
    "plt.xlabel('Country Code')\n",
    "plt.ylabel('Life Expectancy')\n",
    "plt.title('Life Expectancy by Country')\n",
    "plt.show()"
   ]
  }
 ],
 "metadata": {
  "kernelspec": {
   "display_name": "Python 3",
   "language": "python",
   "name": "python3"
  },
  "language_info": {
   "codemirror_mode": {
    "name": "ipython",
    "version": 3
   },
   "file_extension": ".py",
   "mimetype": "text/x-python",
   "name": "python",
   "nbconvert_exporter": "python",
   "pygments_lexer": "ipython3",
   "version": "3.9.6"
  },
  "orig_nbformat": 4
 },
 "nbformat": 4,
 "nbformat_minor": 2
}
