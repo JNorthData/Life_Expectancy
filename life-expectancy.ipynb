{
 "cells": [
  {
   "cell_type": "markdown",
   "metadata": {},
   "source": [
    "# Life Expectancy Analysis"
   ]
  },
  {
   "cell_type": "code",
   "execution_count": 56,
   "metadata": {},
   "outputs": [],
   "source": [
    "# Dependencies and setup\n",
    "\n",
    "import pandas as pd\n",
    "import requests\n",
    "import matplotlib.pyplot as plt"
   ]
  },
  {
   "cell_type": "markdown",
   "metadata": {},
   "source": [
    "### Life Expectancy Dataset loaded and cleaned"
   ]
  },
  {
   "cell_type": "code",
   "execution_count": 57,
   "metadata": {},
   "outputs": [
    {
     "data": {
      "text/html": [
       "<div>\n",
       "<style scoped>\n",
       "    .dataframe tbody tr th:only-of-type {\n",
       "        vertical-align: middle;\n",
       "    }\n",
       "\n",
       "    .dataframe tbody tr th {\n",
       "        vertical-align: top;\n",
       "    }\n",
       "\n",
       "    .dataframe thead th {\n",
       "        text-align: right;\n",
       "    }\n",
       "</style>\n",
       "<table border=\"1\" class=\"dataframe\">\n",
       "  <thead>\n",
       "    <tr style=\"text-align: right;\">\n",
       "      <th></th>\n",
       "      <th>Country</th>\n",
       "      <th>Year</th>\n",
       "      <th>Life Expectancy Male</th>\n",
       "      <th>Life Expectancy Female</th>\n",
       "    </tr>\n",
       "  </thead>\n",
       "  <tbody>\n",
       "    <tr>\n",
       "      <th>0</th>\n",
       "      <td>Aruba</td>\n",
       "      <td>1960</td>\n",
       "      <td>61</td>\n",
       "      <td>68</td>\n",
       "    </tr>\n",
       "    <tr>\n",
       "      <th>1</th>\n",
       "      <td>Africa Eastern and Southern</td>\n",
       "      <td>1960</td>\n",
       "      <td>42</td>\n",
       "      <td>46</td>\n",
       "    </tr>\n",
       "    <tr>\n",
       "      <th>2</th>\n",
       "      <td>Afghanistan</td>\n",
       "      <td>1960</td>\n",
       "      <td>32</td>\n",
       "      <td>33</td>\n",
       "    </tr>\n",
       "    <tr>\n",
       "      <th>3</th>\n",
       "      <td>Africa Western and Central</td>\n",
       "      <td>1960</td>\n",
       "      <td>36</td>\n",
       "      <td>39</td>\n",
       "    </tr>\n",
       "    <tr>\n",
       "      <th>4</th>\n",
       "      <td>Angola</td>\n",
       "      <td>1960</td>\n",
       "      <td>37</td>\n",
       "      <td>40</td>\n",
       "    </tr>\n",
       "    <tr>\n",
       "      <th>...</th>\n",
       "      <td>...</td>\n",
       "      <td>...</td>\n",
       "      <td>...</td>\n",
       "      <td>...</td>\n",
       "    </tr>\n",
       "    <tr>\n",
       "      <th>16060</th>\n",
       "      <td>Kosovo</td>\n",
       "      <td>2022</td>\n",
       "      <td></td>\n",
       "      <td></td>\n",
       "    </tr>\n",
       "    <tr>\n",
       "      <th>16061</th>\n",
       "      <td>Yemen, Rep.</td>\n",
       "      <td>2022</td>\n",
       "      <td></td>\n",
       "      <td></td>\n",
       "    </tr>\n",
       "    <tr>\n",
       "      <th>16062</th>\n",
       "      <td>South Africa</td>\n",
       "      <td>2022</td>\n",
       "      <td></td>\n",
       "      <td></td>\n",
       "    </tr>\n",
       "    <tr>\n",
       "      <th>16063</th>\n",
       "      <td>Zambia</td>\n",
       "      <td>2022</td>\n",
       "      <td></td>\n",
       "      <td></td>\n",
       "    </tr>\n",
       "    <tr>\n",
       "      <th>16064</th>\n",
       "      <td>Zimbabwe</td>\n",
       "      <td>2022</td>\n",
       "      <td></td>\n",
       "      <td></td>\n",
       "    </tr>\n",
       "  </tbody>\n",
       "</table>\n",
       "<p>16065 rows × 4 columns</p>\n",
       "</div>"
      ],
      "text/plain": [
       "                           Country  Year Life Expectancy Male  \\\n",
       "0                            Aruba  1960                   61   \n",
       "1      Africa Eastern and Southern  1960                   42   \n",
       "2                      Afghanistan  1960                   32   \n",
       "3       Africa Western and Central  1960                   36   \n",
       "4                           Angola  1960                   37   \n",
       "...                            ...   ...                  ...   \n",
       "16060                       Kosovo  2022                        \n",
       "16061                  Yemen, Rep.  2022                        \n",
       "16062                 South Africa  2022                        \n",
       "16063                       Zambia  2022                        \n",
       "16064                     Zimbabwe  2022                        \n",
       "\n",
       "      Life Expectancy Female  \n",
       "0                         68  \n",
       "1                         46  \n",
       "2                         33  \n",
       "3                         39  \n",
       "4                         40  \n",
       "...                      ...  \n",
       "16060                         \n",
       "16061                         \n",
       "16062                         \n",
       "16063                         \n",
       "16064                         \n",
       "\n",
       "[16065 rows x 4 columns]"
      ]
     },
     "execution_count": 57,
     "metadata": {},
     "output_type": "execute_result"
    }
   ],
   "source": [
    "Life_Exp_Male_df = pd.read_csv('Resources/WHO Life Expectancy Male.csv')\n",
    "Life_Exp_Female_df = pd.read_csv('Resources/WHO Life Expectancy Female.csv')\n",
    "\n",
    "# Rows with little or no data were removed from CSV file, easier to do in Excel. \n",
    "\n",
    "# Columns need to be converted to row data\n",
    "Life_Exp_Male_df = pd.melt(Life_Exp_Male_df, id_vars = 'Country', var_name = 'Year', value_name = 'Life Expectancy Male')\n",
    "Life_Exp_Female_df = pd.melt(Life_Exp_Female_df, id_vars = 'Country', var_name = 'Year', value_name = 'Life Expectancy Female')\n",
    "\n",
    "# Merge Male / Female Data \n",
    "Life_Exp_df = pd.merge(Life_Exp_Male_df, Life_Exp_Female_df, on = ['Country', 'Year'])\n",
    "\n",
    "# Reduce decimal places to 1\n",
    "Life_Exp_df['Life Expectancy Male'] = Life_Exp_df['Life Expectancy Male'].round(1)\n",
    "Life_Exp_df['Life Expectancy Female'] = Life_Exp_df['Life Expectancy Female'].round(1)\n",
    "\n",
    "# Change any NaN values to \"\"\n",
    "Life_Exp_df.fillna('', inplace = True)\n",
    "\n",
    "Life_Exp_df"
   ]
  },
  {
   "cell_type": "markdown",
   "metadata": {},
   "source": [
    "### Population Dataset loaded and cleaned"
   ]
  },
  {
   "cell_type": "code",
   "execution_count": 58,
   "metadata": {},
   "outputs": [
    {
     "data": {
      "text/html": [
       "<div>\n",
       "<style scoped>\n",
       "    .dataframe tbody tr th:only-of-type {\n",
       "        vertical-align: middle;\n",
       "    }\n",
       "\n",
       "    .dataframe tbody tr th {\n",
       "        vertical-align: top;\n",
       "    }\n",
       "\n",
       "    .dataframe thead th {\n",
       "        text-align: right;\n",
       "    }\n",
       "</style>\n",
       "<table border=\"1\" class=\"dataframe\">\n",
       "  <thead>\n",
       "    <tr style=\"text-align: right;\">\n",
       "      <th></th>\n",
       "      <th>Country</th>\n",
       "      <th>Year</th>\n",
       "      <th>Life Expectancy Male</th>\n",
       "      <th>Life Expectancy Female</th>\n",
       "      <th>Population</th>\n",
       "    </tr>\n",
       "  </thead>\n",
       "  <tbody>\n",
       "    <tr>\n",
       "      <th>0</th>\n",
       "      <td>Aruba</td>\n",
       "      <td>1960</td>\n",
       "      <td>61</td>\n",
       "      <td>68</td>\n",
       "      <td>54608</td>\n",
       "    </tr>\n",
       "    <tr>\n",
       "      <th>1</th>\n",
       "      <td>Africa Eastern and Southern</td>\n",
       "      <td>1960</td>\n",
       "      <td>42</td>\n",
       "      <td>46</td>\n",
       "      <td>130692579</td>\n",
       "    </tr>\n",
       "    <tr>\n",
       "      <th>2</th>\n",
       "      <td>Afghanistan</td>\n",
       "      <td>1960</td>\n",
       "      <td>32</td>\n",
       "      <td>33</td>\n",
       "      <td>8622466</td>\n",
       "    </tr>\n",
       "    <tr>\n",
       "      <th>3</th>\n",
       "      <td>Africa Western and Central</td>\n",
       "      <td>1960</td>\n",
       "      <td>36</td>\n",
       "      <td>39</td>\n",
       "      <td>97256290</td>\n",
       "    </tr>\n",
       "    <tr>\n",
       "      <th>4</th>\n",
       "      <td>Angola</td>\n",
       "      <td>1960</td>\n",
       "      <td>37</td>\n",
       "      <td>40</td>\n",
       "      <td>5357195</td>\n",
       "    </tr>\n",
       "    <tr>\n",
       "      <th>...</th>\n",
       "      <td>...</td>\n",
       "      <td>...</td>\n",
       "      <td>...</td>\n",
       "      <td>...</td>\n",
       "      <td>...</td>\n",
       "    </tr>\n",
       "    <tr>\n",
       "      <th>16060</th>\n",
       "      <td>Kosovo</td>\n",
       "      <td>2022</td>\n",
       "      <td></td>\n",
       "      <td></td>\n",
       "      <td>1761985</td>\n",
       "    </tr>\n",
       "    <tr>\n",
       "      <th>16061</th>\n",
       "      <td>Yemen, Rep.</td>\n",
       "      <td>2022</td>\n",
       "      <td></td>\n",
       "      <td></td>\n",
       "      <td>33696614</td>\n",
       "    </tr>\n",
       "    <tr>\n",
       "      <th>16062</th>\n",
       "      <td>South Africa</td>\n",
       "      <td>2022</td>\n",
       "      <td></td>\n",
       "      <td></td>\n",
       "      <td>59893885</td>\n",
       "    </tr>\n",
       "    <tr>\n",
       "      <th>16063</th>\n",
       "      <td>Zambia</td>\n",
       "      <td>2022</td>\n",
       "      <td></td>\n",
       "      <td></td>\n",
       "      <td>20017675</td>\n",
       "    </tr>\n",
       "    <tr>\n",
       "      <th>16064</th>\n",
       "      <td>Zimbabwe</td>\n",
       "      <td>2022</td>\n",
       "      <td></td>\n",
       "      <td></td>\n",
       "      <td>16320537</td>\n",
       "    </tr>\n",
       "  </tbody>\n",
       "</table>\n",
       "<p>16065 rows × 5 columns</p>\n",
       "</div>"
      ],
      "text/plain": [
       "                           Country  Year Life Expectancy Male  \\\n",
       "0                            Aruba  1960                   61   \n",
       "1      Africa Eastern and Southern  1960                   42   \n",
       "2                      Afghanistan  1960                   32   \n",
       "3       Africa Western and Central  1960                   36   \n",
       "4                           Angola  1960                   37   \n",
       "...                            ...   ...                  ...   \n",
       "16060                       Kosovo  2022                        \n",
       "16061                  Yemen, Rep.  2022                        \n",
       "16062                 South Africa  2022                        \n",
       "16063                       Zambia  2022                        \n",
       "16064                     Zimbabwe  2022                        \n",
       "\n",
       "      Life Expectancy Female  Population  \n",
       "0                         68       54608  \n",
       "1                         46   130692579  \n",
       "2                         33     8622466  \n",
       "3                         39    97256290  \n",
       "4                         40     5357195  \n",
       "...                      ...         ...  \n",
       "16060                            1761985  \n",
       "16061                           33696614  \n",
       "16062                           59893885  \n",
       "16063                           20017675  \n",
       "16064                           16320537  \n",
       "\n",
       "[16065 rows x 5 columns]"
      ]
     },
     "execution_count": 58,
     "metadata": {},
     "output_type": "execute_result"
    }
   ],
   "source": [
    "Population_df = pd.read_csv('Resources/WHO Population.csv')\n",
    "\n",
    "# Columns need to be converted to row data\n",
    "Population_df = pd.melt(Population_df, id_vars = 'Country', var_name = 'Year', value_name = 'Population')\n",
    "\n",
    "# Merge Population with Main dataset\n",
    "Life_Exp_df = pd.merge(Life_Exp_df, Population_df, on = ['Country', 'Year'])\n",
    "\n",
    "Life_Exp_df"
   ]
  },
  {
   "cell_type": "code",
   "execution_count": 59,
   "metadata": {},
   "outputs": [
    {
     "data": {
      "text/plain": [
       "255"
      ]
     },
     "execution_count": 59,
     "metadata": {},
     "output_type": "execute_result"
    }
   ],
   "source": [
    "# How many countries in dataset?\n",
    "Life_Exp_df['Country'].nunique()"
   ]
  },
  {
   "cell_type": "markdown",
   "metadata": {},
   "source": [
    "### GDP Dataset loaded and cleaned"
   ]
  },
  {
   "cell_type": "code",
   "execution_count": 60,
   "metadata": {},
   "outputs": [
    {
     "data": {
      "text/html": [
       "<div>\n",
       "<style scoped>\n",
       "    .dataframe tbody tr th:only-of-type {\n",
       "        vertical-align: middle;\n",
       "    }\n",
       "\n",
       "    .dataframe tbody tr th {\n",
       "        vertical-align: top;\n",
       "    }\n",
       "\n",
       "    .dataframe thead th {\n",
       "        text-align: right;\n",
       "    }\n",
       "</style>\n",
       "<table border=\"1\" class=\"dataframe\">\n",
       "  <thead>\n",
       "    <tr style=\"text-align: right;\">\n",
       "      <th></th>\n",
       "      <th>Country</th>\n",
       "      <th>Year</th>\n",
       "      <th>GDP</th>\n",
       "    </tr>\n",
       "  </thead>\n",
       "  <tbody>\n",
       "    <tr>\n",
       "      <th>0</th>\n",
       "      <td>Aruba</td>\n",
       "      <td>1960</td>\n",
       "      <td></td>\n",
       "    </tr>\n",
       "    <tr>\n",
       "      <th>1</th>\n",
       "      <td>Africa Eastern and Southern</td>\n",
       "      <td>1960</td>\n",
       "      <td>21,125,015,452</td>\n",
       "    </tr>\n",
       "    <tr>\n",
       "      <th>2</th>\n",
       "      <td>Africa Western and Central</td>\n",
       "      <td>1960</td>\n",
       "      <td>10,447,637,853</td>\n",
       "    </tr>\n",
       "    <tr>\n",
       "      <th>3</th>\n",
       "      <td>Angola</td>\n",
       "      <td>1960</td>\n",
       "      <td></td>\n",
       "    </tr>\n",
       "    <tr>\n",
       "      <th>4</th>\n",
       "      <td>Albania</td>\n",
       "      <td>1960</td>\n",
       "      <td></td>\n",
       "    </tr>\n",
       "    <tr>\n",
       "      <th>...</th>\n",
       "      <td>...</td>\n",
       "      <td>...</td>\n",
       "      <td>...</td>\n",
       "    </tr>\n",
       "    <tr>\n",
       "      <th>14485</th>\n",
       "      <td>Samoa</td>\n",
       "      <td>2022</td>\n",
       "      <td>832,421,565</td>\n",
       "    </tr>\n",
       "    <tr>\n",
       "      <th>14486</th>\n",
       "      <td>Yemen, Rep.</td>\n",
       "      <td>2022</td>\n",
       "      <td></td>\n",
       "    </tr>\n",
       "    <tr>\n",
       "      <th>14487</th>\n",
       "      <td>South Africa</td>\n",
       "      <td>2022</td>\n",
       "      <td>405,870,000,000</td>\n",
       "    </tr>\n",
       "    <tr>\n",
       "      <th>14488</th>\n",
       "      <td>Zambia</td>\n",
       "      <td>2022</td>\n",
       "      <td>29,784,454,056</td>\n",
       "    </tr>\n",
       "    <tr>\n",
       "      <th>14489</th>\n",
       "      <td>Zimbabwe</td>\n",
       "      <td>2022</td>\n",
       "      <td>20,678,055,598</td>\n",
       "    </tr>\n",
       "  </tbody>\n",
       "</table>\n",
       "<p>14490 rows × 3 columns</p>\n",
       "</div>"
      ],
      "text/plain": [
       "                           Country  Year             GDP\n",
       "0                            Aruba  1960                \n",
       "1      Africa Eastern and Southern  1960  21,125,015,452\n",
       "2       Africa Western and Central  1960  10,447,637,853\n",
       "3                           Angola  1960                \n",
       "4                          Albania  1960                \n",
       "...                            ...   ...             ...\n",
       "14485                        Samoa  2022     832,421,565\n",
       "14486                  Yemen, Rep.  2022                \n",
       "14487                 South Africa  2022 405,870,000,000\n",
       "14488                       Zambia  2022  29,784,454,056\n",
       "14489                     Zimbabwe  2022  20,678,055,598\n",
       "\n",
       "[14490 rows x 3 columns]"
      ]
     },
     "execution_count": 60,
     "metadata": {},
     "output_type": "execute_result"
    }
   ],
   "source": [
    "GDP_df = pd.read_csv('Resources/WHO GDP.csv')\n",
    "\n",
    "# Columns need to be converted to row data\n",
    "GDP_df = pd.melt(GDP_df, id_vars = 'Country', var_name = 'Year', value_name = 'GDP')\n",
    "\n",
    "# Change any NaN values to \"\"\n",
    "GDP_df.fillna('', inplace = True)\n",
    "\n",
    "Display_df = pd.DataFrame(GDP_df)\n",
    "pd.set_option('display.float_format', '{:,.0f}'.format)\n",
    "\n",
    "GDP_df"
   ]
  },
  {
   "cell_type": "code",
   "execution_count": 61,
   "metadata": {},
   "outputs": [
    {
     "data": {
      "text/plain": [
       "230"
      ]
     },
     "execution_count": 61,
     "metadata": {},
     "output_type": "execute_result"
    }
   ],
   "source": [
    "# How many countries in GDP dataset?\n",
    "GDP_df['Country'].nunique()"
   ]
  },
  {
   "cell_type": "markdown",
   "metadata": {},
   "source": [
    "### Clean Water loaded and cleaned"
   ]
  },
  {
   "cell_type": "code",
   "execution_count": 75,
   "metadata": {},
   "outputs": [
    {
     "data": {
      "text/html": [
       "<div>\n",
       "<style scoped>\n",
       "    .dataframe tbody tr th:only-of-type {\n",
       "        vertical-align: middle;\n",
       "    }\n",
       "\n",
       "    .dataframe tbody tr th {\n",
       "        vertical-align: top;\n",
       "    }\n",
       "\n",
       "    .dataframe thead th {\n",
       "        text-align: right;\n",
       "    }\n",
       "</style>\n",
       "<table border=\"1\" class=\"dataframe\">\n",
       "  <thead>\n",
       "    <tr style=\"text-align: right;\">\n",
       "      <th></th>\n",
       "      <th>Country</th>\n",
       "      <th>Year</th>\n",
       "      <th>% Population using Clean Water</th>\n",
       "    </tr>\n",
       "  </thead>\n",
       "  <tbody>\n",
       "    <tr>\n",
       "      <th>0</th>\n",
       "      <td>Afghanistan</td>\n",
       "      <td>2000</td>\n",
       "      <td>11</td>\n",
       "    </tr>\n",
       "    <tr>\n",
       "      <th>1</th>\n",
       "      <td>Africa Western and Central</td>\n",
       "      <td>2000</td>\n",
       "      <td>15</td>\n",
       "    </tr>\n",
       "    <tr>\n",
       "      <th>2</th>\n",
       "      <td>Albania</td>\n",
       "      <td>2000</td>\n",
       "      <td>49</td>\n",
       "    </tr>\n",
       "    <tr>\n",
       "      <th>3</th>\n",
       "      <td>Andorra</td>\n",
       "      <td>2000</td>\n",
       "      <td>91</td>\n",
       "    </tr>\n",
       "    <tr>\n",
       "      <th>4</th>\n",
       "      <td>Armenia</td>\n",
       "      <td>2000</td>\n",
       "      <td>80</td>\n",
       "    </tr>\n",
       "  </tbody>\n",
       "</table>\n",
       "</div>"
      ],
      "text/plain": [
       "                      Country  Year  % Population using Clean Water\n",
       "0                 Afghanistan  2000                              11\n",
       "1  Africa Western and Central  2000                              15\n",
       "2                     Albania  2000                              49\n",
       "3                     Andorra  2000                              91\n",
       "4                     Armenia  2000                              80"
      ]
     },
     "execution_count": 75,
     "metadata": {},
     "output_type": "execute_result"
    }
   ],
   "source": [
    "Clean_Water_df = pd.read_csv('Resources/WHO Access to Clean Water.csv')\n",
    "Clean_Water_df.head()\n",
    "\n",
    "Clean_Water_df = pd.melt(Clean_Water_df, id_vars = 'Country', var_name = 'Year', value_name = '% Population using Clean Water')\n",
    "\n",
    "Clean_Water_df.head()"
   ]
  },
  {
   "cell_type": "code",
   "execution_count": 76,
   "metadata": {},
   "outputs": [
    {
     "data": {
      "text/plain": [
       "145"
      ]
     },
     "execution_count": 76,
     "metadata": {},
     "output_type": "execute_result"
    }
   ],
   "source": [
    "Clean_Water_df['Country'].nunique()"
   ]
  },
  {
   "cell_type": "markdown",
   "metadata": {},
   "source": [
    "### Sanitation loaded and cleaned"
   ]
  },
  {
   "cell_type": "code",
   "execution_count": 74,
   "metadata": {},
   "outputs": [
    {
     "data": {
      "text/html": [
       "<div>\n",
       "<style scoped>\n",
       "    .dataframe tbody tr th:only-of-type {\n",
       "        vertical-align: middle;\n",
       "    }\n",
       "\n",
       "    .dataframe tbody tr th {\n",
       "        vertical-align: top;\n",
       "    }\n",
       "\n",
       "    .dataframe thead th {\n",
       "        text-align: right;\n",
       "    }\n",
       "</style>\n",
       "<table border=\"1\" class=\"dataframe\">\n",
       "  <thead>\n",
       "    <tr style=\"text-align: right;\">\n",
       "      <th></th>\n",
       "      <th>Country</th>\n",
       "      <th>Year</th>\n",
       "      <th>% Population using Sanitation</th>\n",
       "    </tr>\n",
       "  </thead>\n",
       "  <tbody>\n",
       "    <tr>\n",
       "      <th>0</th>\n",
       "      <td>Africa Western and Central</td>\n",
       "      <td>2000</td>\n",
       "      <td>16</td>\n",
       "    </tr>\n",
       "    <tr>\n",
       "      <th>1</th>\n",
       "      <td>Albania</td>\n",
       "      <td>2000</td>\n",
       "      <td>40</td>\n",
       "    </tr>\n",
       "    <tr>\n",
       "      <th>2</th>\n",
       "      <td>Andorra</td>\n",
       "      <td>2000</td>\n",
       "      <td>15</td>\n",
       "    </tr>\n",
       "    <tr>\n",
       "      <th>3</th>\n",
       "      <td>Arab World</td>\n",
       "      <td>2000</td>\n",
       "      <td>39</td>\n",
       "    </tr>\n",
       "    <tr>\n",
       "      <th>4</th>\n",
       "      <td>United Arab Emirates</td>\n",
       "      <td>2000</td>\n",
       "      <td>NaN</td>\n",
       "    </tr>\n",
       "  </tbody>\n",
       "</table>\n",
       "</div>"
      ],
      "text/plain": [
       "                      Country  Year  % Population using Sanitation\n",
       "0  Africa Western and Central  2000                             16\n",
       "1                     Albania  2000                             40\n",
       "2                     Andorra  2000                             15\n",
       "3                  Arab World  2000                             39\n",
       "4        United Arab Emirates  2000                            NaN"
      ]
     },
     "execution_count": 74,
     "metadata": {},
     "output_type": "execute_result"
    }
   ],
   "source": [
    "Sanitation_df = pd.read_csv('Resources/WHO Access to Sanitation.csv')\n",
    "Sanitation_df.head()\n",
    "\n",
    "Sanitation_df = pd.melt(Sanitation_df, id_vars = 'Country', var_name = 'Year', value_name = '% Population using Sanitation')\n",
    "\n",
    "Sanitation_df.head()"
   ]
  },
  {
   "cell_type": "code",
   "execution_count": 73,
   "metadata": {},
   "outputs": [
    {
     "data": {
      "text/plain": [
       "151"
      ]
     },
     "execution_count": 73,
     "metadata": {},
     "output_type": "execute_result"
    }
   ],
   "source": [
    "Sanitation_df['Country'].nunique()"
   ]
  },
  {
   "cell_type": "code",
   "execution_count": 81,
   "metadata": {},
   "outputs": [
    {
     "data": {
      "text/html": [
       "<div>\n",
       "<style scoped>\n",
       "    .dataframe tbody tr th:only-of-type {\n",
       "        vertical-align: middle;\n",
       "    }\n",
       "\n",
       "    .dataframe tbody tr th {\n",
       "        vertical-align: top;\n",
       "    }\n",
       "\n",
       "    .dataframe thead th {\n",
       "        text-align: right;\n",
       "    }\n",
       "</style>\n",
       "<table border=\"1\" class=\"dataframe\">\n",
       "  <thead>\n",
       "    <tr style=\"text-align: right;\">\n",
       "      <th></th>\n",
       "      <th>Country</th>\n",
       "      <th>Year</th>\n",
       "      <th>% Population using Clean Water</th>\n",
       "      <th>% Population using Sanitation</th>\n",
       "    </tr>\n",
       "  </thead>\n",
       "  <tbody>\n",
       "    <tr>\n",
       "      <th>0</th>\n",
       "      <td>Africa Western and Central</td>\n",
       "      <td>2000</td>\n",
       "      <td>15</td>\n",
       "      <td>16</td>\n",
       "    </tr>\n",
       "    <tr>\n",
       "      <th>1</th>\n",
       "      <td>Albania</td>\n",
       "      <td>2000</td>\n",
       "      <td>49</td>\n",
       "      <td>40</td>\n",
       "    </tr>\n",
       "    <tr>\n",
       "      <th>2</th>\n",
       "      <td>Andorra</td>\n",
       "      <td>2000</td>\n",
       "      <td>91</td>\n",
       "      <td>15</td>\n",
       "    </tr>\n",
       "    <tr>\n",
       "      <th>3</th>\n",
       "      <td>Armenia</td>\n",
       "      <td>2000</td>\n",
       "      <td>80</td>\n",
       "      <td>46</td>\n",
       "    </tr>\n",
       "    <tr>\n",
       "      <th>4</th>\n",
       "      <td>Austria</td>\n",
       "      <td>2000</td>\n",
       "      <td>96</td>\n",
       "      <td>100</td>\n",
       "    </tr>\n",
       "  </tbody>\n",
       "</table>\n",
       "</div>"
      ],
      "text/plain": [
       "                      Country  Year  % Population using Clean Water  \\\n",
       "0  Africa Western and Central  2000                              15   \n",
       "1                     Albania  2000                              49   \n",
       "2                     Andorra  2000                              91   \n",
       "3                     Armenia  2000                              80   \n",
       "4                     Austria  2000                              96   \n",
       "\n",
       "   % Population using Sanitation  \n",
       "0                             16  \n",
       "1                             40  \n",
       "2                             15  \n",
       "3                             46  \n",
       "4                            100  "
      ]
     },
     "execution_count": 81,
     "metadata": {},
     "output_type": "execute_result"
    }
   ],
   "source": [
    "Clean_Water_Sanitation_df = pd.merge(Clean_Water_df, Sanitation_df, on = ['Country', 'Year'])\n",
    "Clean_Water_Sanitation_df.head()"
   ]
  },
  {
   "cell_type": "code",
   "execution_count": 82,
   "metadata": {},
   "outputs": [
    {
     "data": {
      "text/plain": [
       "116"
      ]
     },
     "execution_count": 82,
     "metadata": {},
     "output_type": "execute_result"
    }
   ],
   "source": [
    "Clean_Water_Sanitation_df['Country'].nunique()"
   ]
  },
  {
   "cell_type": "markdown",
   "metadata": {},
   "source": [
    "### OECD GDP Growth Dataset loaded and cleaned"
   ]
  },
  {
   "cell_type": "code",
   "execution_count": null,
   "metadata": {},
   "outputs": [],
   "source": [
    "# Load data into dataframe\n",
    "GDP_Growth_df = pd.read_csv('Resources/OECD GDP Growth Data.csv')"
   ]
  },
  {
   "cell_type": "code",
   "execution_count": null,
   "metadata": {},
   "outputs": [],
   "source": [
    "# Removing rows where '1980' column has the value \"no data\"\n",
    "GDP_Growth_df = GDP_Growth_df[(GDP_Growth_df['2000'] != 'no data') & (~GDP_Growth_df['2000'].isna())]\n",
    "\n",
    "# Remove columns outside of 2000 - 2015\n",
    "GDP_Growth_df = GDP_Growth_df[['Country', '2000', '2001', '2002', '2003', '2004', '2005', '2006','2007', '2008', '2009', '2010', '2011', '2012', '2013', '2014', '2015']]"
   ]
  },
  {
   "cell_type": "code",
   "execution_count": null,
   "metadata": {},
   "outputs": [],
   "source": [
    "# Reshape the GDP_Growth_df so that years are listed in rows instead of columns\n",
    "\n",
    "GDP_Growth_df_melted = pd.melt(GDP_Growth_df, id_vars = 'Country', var_name = 'Year', value_name = 'GDP Growth %')\n",
    "\n",
    "# Convert the 'Year' column to integers\n",
    "GDP_Growth_df_melted['Year'] = GDP_Growth_df_melted['Year'].astype(int)\n",
    "\n",
    "GDP_Growth_df_melted.head()"
   ]
  },
  {
   "cell_type": "code",
   "execution_count": null,
   "metadata": {},
   "outputs": [],
   "source": [
    "# How many countries in dataset?\n",
    "GDP_Growth_df_melted['Country'].nunique()"
   ]
  },
  {
   "cell_type": "markdown",
   "metadata": {},
   "source": [
    "### Line Chart showing life expectancy over time"
   ]
  },
  {
   "cell_type": "code",
   "execution_count": null,
   "metadata": {},
   "outputs": [],
   "source": [
    "\n",
    "# Grouping by 'Year' and 'Status' and calculating average life expectancy\n",
    "m_grouped_df = Life_Exp_df.groupby(['Year'])['Life Expectancy Male'].mean().reset_index()\n",
    "f_grouped_df = Life_Exp_df.groupby(['Year'])['Life Expectancy Female'].mean().reset_index()\n",
    "\n",
    "# Creating the line chart\n",
    "plt.figure(figsize =(10, 6))  \n",
    "\n",
    "# Line plot for Males\n",
    "plt.plot(m_grouped_df['Year'], m_grouped_df['Life Expectancy'], label='males', marker='o')\n",
    "\n",
    "# Line plot for Females\n",
    "plt.plot(f_grouped_df['Year'], f_grouped_df['Life Expectancy'], label='females', marker='o')\n",
    "\n",
    "plt.xlabel('Year')\n",
    "plt.ylabel('Average Life Expectancy')\n",
    "plt.title('Average Life Expectancy by Year and Sex')\n",
    "plt.ylim(0, 100)\n",
    "plt.legend()\n",
    "plt.xticks(rotation=45) \n",
    "\n",
    "plt.show()"
   ]
  },
  {
   "cell_type": "markdown",
   "metadata": {},
   "source": [
    "### Scatter Plot showing Life Expectancy vs. Population"
   ]
  },
  {
   "cell_type": "code",
   "execution_count": null,
   "metadata": {},
   "outputs": [],
   "source": [
    "# Group by 'Country' and calculate the average 'Life Expectancy' and total 'Population'\n",
    "grouped_df = Life_Exp_df.groupby('Country').agg({\n",
    "    'Life Expectancy': 'mean',\n",
    "    'Population': 'max'\n",
    "}).reset_index()\n",
    "\n",
    "# Reverse the x and y-axis data\n",
    "x = grouped_df['Life Expectancy']\n",
    "y = grouped_df['Population']\n",
    "\n",
    "# Convert population values to millions for labeling\n",
    "y_labels_millions = [val / 1000000 for val in y]\n",
    "\n",
    "plt.figure(figsize=(10, 6))  # Adjust the size of the plot as needed.\n",
    "plt.scatter(x, y, alpha=0.5)  # 'alpha' controls the transparency of the points.\n",
    "\n",
    "plt.xlabel('Life Expectancy')\n",
    "plt.ylabel('Population (Millions)')  # Label the y-axis with population in millions\n",
    "plt.title('Scatter Plot: Population vs. Life Expectancy by Country')\n",
    "\n",
    "plt.grid(True)  # Add a grid to the plot.\n",
    "plt.tight_layout()  # Improve spacing between elements.\n",
    "\n",
    "# Format y-axis labels to display population in millions\n",
    "plt.gca().get_yaxis().set_major_formatter(plt.FuncFormatter(lambda x, loc: \"{:,}\".format(int(x))))\n",
    "\n",
    "plt.show()  # Display the plot."
   ]
  },
  {
   "cell_type": "code",
   "execution_count": null,
   "metadata": {},
   "outputs": [],
   "source": [
    "Outliers_df = grouped_df[Life_Exp_df['Population'] > 40000000]\n",
    "Outliers_df"
   ]
  },
  {
   "cell_type": "code",
   "execution_count": null,
   "metadata": {},
   "outputs": [],
   "source": [
    "import pandas as pd\n",
    "import matplotlib.pyplot as plt\n",
    "from scipy.stats import linregress\n",
    "\n",
    "# Assuming you have a DataFrame named 'Life_Exp_Report_df' with columns 'Country', 'BMI', and 'Life Expectancy'\n",
    "\n",
    "# Calculate average BMI and Life Expectancy grouped by 'Country'\n",
    "avg_data = Life_Exp_Report_df.groupby('Country').mean([['BMI', 'Life Expectancy']])\n",
    "\n",
    "x_avg = avg_data['BMI']\n",
    "y_avg = avg_data['Life Expectancy']\n",
    "\n",
    "plt.figure(figsize=(10, 6))  \n",
    "plt.scatter(x_avg, y_avg, alpha=0.5)  \n",
    "\n",
    "plt.xlabel('BMI')\n",
    "plt.ylabel('Life Expectancy')\n",
    "plt.title('Scatter Plot: Average BMI vs. Average Life Expectancy by Country')\n",
    "\n",
    "# Calculate the linear regression\n",
    "slope, intercept, r_value, p_value, std_err = linregress(x_avg, y_avg)\n",
    "\n",
    "# Create the linear regression line using the calculated slope and intercept\n",
    "regression_line = slope * x_avg + intercept\n",
    "\n",
    "# Plot the linear regression line\n",
    "plt.plot(x_avg, regression_line, color='red', linewidth=2)\n",
    "\n",
    "plt.grid(True)\n",
    "plt.tight_layout()\n",
    "\n",
    "# Format y-axis labels to display population in millions (if needed)\n",
    "# plt.gca().get_yaxis().set_major_formatter(plt.FuncFormatter(lambda x, loc: \"{:,}\".format(int(x))))\n",
    "\n",
    "plt.show()"
   ]
  },
  {
   "cell_type": "code",
   "execution_count": null,
   "metadata": {},
   "outputs": [],
   "source": [
    "import geopandas as gpd\n",
    "import pandas as pd\n",
    "import matplotlib.pyplot as plt\n",
    "# Load the built-in world dataset from geopandas\n",
    "world = gpd.read_file(gpd.datasets.get_path('naturalearth_lowres'))\n",
    "# Generate sample data for visualization\n",
    "data = {\n",
    "    'country': ['United States', 'Canada', 'Mexico'],\n",
    "    'gdp_value': ['United States', 'Canada', 'Mexico']\n",
    "}\n",
    "gdp_df = pd.DataFrame(data)\n",
    "# Merge GeoDataFrame with DataFrame based on country names\n",
    "merged_gdf = world.merge(gdp_df, left_on='name', right_on='country', how='left')\n",
    "# Set up the figure and axis\n",
    "fig, ax = plt.subplots(1, figsize=(12, 8))\n",
    "# Plot the choropleth map\n",
    "merged_gdf.plot(column='gdp_value', cmap='OrRd', linewidth=0.8, ax=ax, edgecolor='0.8', legend=True)\n",
    "# Customize the plot (optional)\n",
    "ax.set_title('World GDP Choropleth Map')\n",
    "ax.axis('off')\n",
    "# Show the plot\n",
    "plt.show()\n"
   ]
  }
 ],
 "metadata": {
  "kernelspec": {
   "display_name": "Python 3",
   "language": "python",
   "name": "python3"
  },
  "language_info": {
   "codemirror_mode": {
    "name": "ipython",
    "version": 3
   },
   "file_extension": ".py",
   "mimetype": "text/x-python",
   "name": "python",
   "nbconvert_exporter": "python",
   "pygments_lexer": "ipython3",
   "version": "3.9.6"
  },
  "orig_nbformat": 4
 },
 "nbformat": 4,
 "nbformat_minor": 2
}
