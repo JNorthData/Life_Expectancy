{
 "cells": [
  {
   "cell_type": "markdown",
   "metadata": {},
   "source": [
    "# Life Expectancy Analysis"
   ]
  },
  {
   "cell_type": "code",
   "execution_count": 61,
   "metadata": {},
   "outputs": [],
   "source": [
    "# Dependencies and setup\n",
    "\n",
    "import pandas as pd\n",
    "import requests\n",
    "import matplotlib.pyplot as plt"
   ]
  },
  {
   "cell_type": "markdown",
   "metadata": {},
   "source": [
    "### 1st Dataset loaded and cleaned"
   ]
  },
  {
   "cell_type": "code",
   "execution_count": 64,
   "metadata": {},
   "outputs": [
    {
     "data": {
      "text/html": [
       "<div>\n",
       "<style scoped>\n",
       "    .dataframe tbody tr th:only-of-type {\n",
       "        vertical-align: middle;\n",
       "    }\n",
       "\n",
       "    .dataframe tbody tr th {\n",
       "        vertical-align: top;\n",
       "    }\n",
       "\n",
       "    .dataframe thead th {\n",
       "        text-align: right;\n",
       "    }\n",
       "</style>\n",
       "<table border=\"1\" class=\"dataframe\">\n",
       "  <thead>\n",
       "    <tr style=\"text-align: right;\">\n",
       "      <th></th>\n",
       "      <th>Country</th>\n",
       "      <th>Year</th>\n",
       "      <th>Life Expectancy Male</th>\n",
       "      <th>Life Expectancy Female</th>\n",
       "    </tr>\n",
       "  </thead>\n",
       "  <tbody>\n",
       "    <tr>\n",
       "      <th>0</th>\n",
       "      <td>Aruba</td>\n",
       "      <td>1960</td>\n",
       "      <td>60.6</td>\n",
       "      <td>67.8</td>\n",
       "    </tr>\n",
       "    <tr>\n",
       "      <th>1</th>\n",
       "      <td>Africa Eastern and Southern</td>\n",
       "      <td>1960</td>\n",
       "      <td>42.5</td>\n",
       "      <td>45.7</td>\n",
       "    </tr>\n",
       "    <tr>\n",
       "      <th>2</th>\n",
       "      <td>Afghanistan</td>\n",
       "      <td>1960</td>\n",
       "      <td>31.9</td>\n",
       "      <td>33.3</td>\n",
       "    </tr>\n",
       "    <tr>\n",
       "      <th>3</th>\n",
       "      <td>Africa Western and Central</td>\n",
       "      <td>1960</td>\n",
       "      <td>36.4</td>\n",
       "      <td>39.4</td>\n",
       "    </tr>\n",
       "    <tr>\n",
       "      <th>4</th>\n",
       "      <td>Angola</td>\n",
       "      <td>1960</td>\n",
       "      <td>36.6</td>\n",
       "      <td>39.9</td>\n",
       "    </tr>\n",
       "    <tr>\n",
       "      <th>...</th>\n",
       "      <td>...</td>\n",
       "      <td>...</td>\n",
       "      <td>...</td>\n",
       "      <td>...</td>\n",
       "    </tr>\n",
       "    <tr>\n",
       "      <th>16060</th>\n",
       "      <td>Kosovo</td>\n",
       "      <td>2022</td>\n",
       "      <td></td>\n",
       "      <td></td>\n",
       "    </tr>\n",
       "    <tr>\n",
       "      <th>16061</th>\n",
       "      <td>Yemen, Rep.</td>\n",
       "      <td>2022</td>\n",
       "      <td></td>\n",
       "      <td></td>\n",
       "    </tr>\n",
       "    <tr>\n",
       "      <th>16062</th>\n",
       "      <td>South Africa</td>\n",
       "      <td>2022</td>\n",
       "      <td></td>\n",
       "      <td></td>\n",
       "    </tr>\n",
       "    <tr>\n",
       "      <th>16063</th>\n",
       "      <td>Zambia</td>\n",
       "      <td>2022</td>\n",
       "      <td></td>\n",
       "      <td></td>\n",
       "    </tr>\n",
       "    <tr>\n",
       "      <th>16064</th>\n",
       "      <td>Zimbabwe</td>\n",
       "      <td>2022</td>\n",
       "      <td></td>\n",
       "      <td></td>\n",
       "    </tr>\n",
       "  </tbody>\n",
       "</table>\n",
       "<p>16065 rows × 4 columns</p>\n",
       "</div>"
      ],
      "text/plain": [
       "                           Country  Year Life Expectancy Male  \\\n",
       "0                            Aruba  1960                 60.6   \n",
       "1      Africa Eastern and Southern  1960                 42.5   \n",
       "2                      Afghanistan  1960                 31.9   \n",
       "3       Africa Western and Central  1960                 36.4   \n",
       "4                           Angola  1960                 36.6   \n",
       "...                            ...   ...                  ...   \n",
       "16060                       Kosovo  2022                        \n",
       "16061                  Yemen, Rep.  2022                        \n",
       "16062                 South Africa  2022                        \n",
       "16063                       Zambia  2022                        \n",
       "16064                     Zimbabwe  2022                        \n",
       "\n",
       "      Life Expectancy Female  \n",
       "0                       67.8  \n",
       "1                       45.7  \n",
       "2                       33.3  \n",
       "3                       39.4  \n",
       "4                       39.9  \n",
       "...                      ...  \n",
       "16060                         \n",
       "16061                         \n",
       "16062                         \n",
       "16063                         \n",
       "16064                         \n",
       "\n",
       "[16065 rows x 4 columns]"
      ]
     },
     "execution_count": 64,
     "metadata": {},
     "output_type": "execute_result"
    }
   ],
   "source": [
    "Life_Exp_Male_df = pd.read_csv('Resources/WHO Life Expectancy Male.csv')\n",
    "Life_Exp_Female_df = pd.read_csv('Resources/WHO Life Expectancy Female.csv')\n",
    "\n",
    "# Rows with little or no data were removed from CSV file, easier to do in Excel. \n",
    "\n",
    "# Columns need to be converted to row data\n",
    "Life_Exp_Male_df = pd.melt(Life_Exp_Male_df, id_vars = 'Country', var_name = 'Year', value_name = 'Life Expectancy Male')\n",
    "Life_Exp_Female_df = pd.melt(Life_Exp_Female_df, id_vars = 'Country', var_name = 'Year', value_name = 'Life Expectancy Female')\n",
    "\n",
    "# Merge Male / Female Data \n",
    "Life_Exp_df = pd.merge(Life_Exp_Male_df, Life_Exp_Female_df, on = ['Country', 'Year'])\n",
    "\n",
    "# Reduce decimal places to 1\n",
    "Life_Exp_df['Life Expectancy Male'] = Life_Exp_df['Life Expectancy Male'].round(1)\n",
    "Life_Exp_df['Life Expectancy Female'] = Life_Exp_df['Life Expectancy Female'].round(1)\n",
    "\n",
    "# Change any NaN values to \"\"\n",
    "Life_Exp_df.fillna('', inplace = True)\n",
    "\n",
    "Life_Exp_df"
   ]
  },
  {
   "cell_type": "code",
   "execution_count": null,
   "metadata": {},
   "outputs": [
    {
     "ename": "NameError",
     "evalue": "name 'Life_Exp_df' is not defined",
     "output_type": "error",
     "traceback": [
      "\u001b[0;31m---------------------------------------------------------------------------\u001b[0m",
      "\u001b[0;31mNameError\u001b[0m                                 Traceback (most recent call last)",
      "Cell \u001b[0;32mIn[45], line 2\u001b[0m\n\u001b[1;32m      1\u001b[0m \u001b[39m# Remove excess decimal places\u001b[39;00m\n\u001b[0;32m----> 2\u001b[0m Life_Exp_df[\u001b[39m'\u001b[39m\u001b[39mGDP\u001b[39m\u001b[39m'\u001b[39m] \u001b[39m=\u001b[39m Life_Exp_df[\u001b[39m'\u001b[39m\u001b[39mGDP\u001b[39m\u001b[39m'\u001b[39m]\u001b[39m.\u001b[39mround(\u001b[39m2\u001b[39m)\n\u001b[1;32m      4\u001b[0m Life_Exp_df\n",
      "\u001b[0;31mNameError\u001b[0m: name 'Life_Exp_df' is not defined"
     ]
    }
   ],
   "source": [
    "# Remove excess decimal places\n",
    "Life_Exp_df['GDP'] = Life_Exp_df['GDP'].round(2)\n",
    "\n",
    "Life_Exp_df"
   ]
  },
  {
   "cell_type": "code",
   "execution_count": null,
   "metadata": {},
   "outputs": [
    {
     "ename": "NameError",
     "evalue": "name 'Life_Exp_df' is not defined",
     "output_type": "error",
     "traceback": [
      "\u001b[0;31m---------------------------------------------------------------------------\u001b[0m",
      "\u001b[0;31mNameError\u001b[0m                                 Traceback (most recent call last)",
      "Cell \u001b[0;32mIn[10], line 2\u001b[0m\n\u001b[1;32m      1\u001b[0m \u001b[39m# Reduce original dataframe to relevant columns only\u001b[39;00m\n\u001b[0;32m----> 2\u001b[0m Life_Exp_Core_df \u001b[39m=\u001b[39m Life_Exp_df[[\u001b[39m'\u001b[39m\u001b[39mLife Expectancy\u001b[39m\u001b[39m'\u001b[39m, \u001b[39m'\u001b[39m\u001b[39mYear\u001b[39m\u001b[39m'\u001b[39m, \u001b[39m'\u001b[39m\u001b[39mCountry\u001b[39m\u001b[39m'\u001b[39m, \u001b[39m'\u001b[39m\u001b[39mGDP\u001b[39m\u001b[39m'\u001b[39m, \u001b[39m'\u001b[39m\u001b[39mPopulation\u001b[39m\u001b[39m'\u001b[39m, \u001b[39m'\u001b[39m\u001b[39mBMI\u001b[39m\u001b[39m'\u001b[39m]]\n\u001b[1;32m      4\u001b[0m Life_Exp_Core_df\u001b[39m.\u001b[39mtail()\n",
      "\u001b[0;31mNameError\u001b[0m: name 'Life_Exp_df' is not defined"
     ]
    }
   ],
   "source": [
    "# Reduce original dataframe to relevant columns only\n",
    "Life_Exp_Core_df = Life_Exp_df[['Life Expectancy', 'Year', 'Country', 'GDP', 'Population', 'BMI']]\n",
    "\n",
    "Life_Exp_Core_df.tail()"
   ]
  },
  {
   "cell_type": "code",
   "execution_count": null,
   "metadata": {},
   "outputs": [
    {
     "data": {
      "text/plain": [
       "193"
      ]
     },
     "execution_count": 113,
     "metadata": {},
     "output_type": "execute_result"
    }
   ],
   "source": [
    "# Number of Countries in this dataset\n",
    "Life_Exp_Core_df['Country'].nunique()"
   ]
  },
  {
   "cell_type": "code",
   "execution_count": null,
   "metadata": {},
   "outputs": [],
   "source": []
  },
  {
   "cell_type": "markdown",
   "metadata": {},
   "source": [
    "### 2nd Dataset loaded and cleaned"
   ]
  },
  {
   "cell_type": "code",
   "execution_count": null,
   "metadata": {},
   "outputs": [
    {
     "data": {
      "text/html": [
       "<div>\n",
       "<style scoped>\n",
       "    .dataframe tbody tr th:only-of-type {\n",
       "        vertical-align: middle;\n",
       "    }\n",
       "\n",
       "    .dataframe tbody tr th {\n",
       "        vertical-align: top;\n",
       "    }\n",
       "\n",
       "    .dataframe thead th {\n",
       "        text-align: right;\n",
       "    }\n",
       "</style>\n",
       "<table border=\"1\" class=\"dataframe\">\n",
       "  <thead>\n",
       "    <tr style=\"text-align: right;\">\n",
       "      <th></th>\n",
       "      <th>Real GDP growth (Annual percent change)</th>\n",
       "      <th>1980</th>\n",
       "      <th>1981</th>\n",
       "      <th>1982</th>\n",
       "      <th>1983</th>\n",
       "      <th>1984</th>\n",
       "      <th>1985</th>\n",
       "      <th>1986</th>\n",
       "      <th>1987</th>\n",
       "      <th>1988</th>\n",
       "      <th>...</th>\n",
       "      <th>2019</th>\n",
       "      <th>2020</th>\n",
       "      <th>2021</th>\n",
       "      <th>2022</th>\n",
       "      <th>2023</th>\n",
       "      <th>2024</th>\n",
       "      <th>2025</th>\n",
       "      <th>2026</th>\n",
       "      <th>2027</th>\n",
       "      <th>2028</th>\n",
       "    </tr>\n",
       "  </thead>\n",
       "  <tbody>\n",
       "    <tr>\n",
       "      <th>0</th>\n",
       "      <td>NaN</td>\n",
       "      <td>NaN</td>\n",
       "      <td>NaN</td>\n",
       "      <td>NaN</td>\n",
       "      <td>NaN</td>\n",
       "      <td>NaN</td>\n",
       "      <td>NaN</td>\n",
       "      <td>NaN</td>\n",
       "      <td>NaN</td>\n",
       "      <td>NaN</td>\n",
       "      <td>...</td>\n",
       "      <td>NaN</td>\n",
       "      <td>NaN</td>\n",
       "      <td>NaN</td>\n",
       "      <td>NaN</td>\n",
       "      <td>NaN</td>\n",
       "      <td>NaN</td>\n",
       "      <td>NaN</td>\n",
       "      <td>NaN</td>\n",
       "      <td>NaN</td>\n",
       "      <td>NaN</td>\n",
       "    </tr>\n",
       "    <tr>\n",
       "      <th>1</th>\n",
       "      <td>Afghanistan</td>\n",
       "      <td>no data</td>\n",
       "      <td>no data</td>\n",
       "      <td>no data</td>\n",
       "      <td>no data</td>\n",
       "      <td>no data</td>\n",
       "      <td>no data</td>\n",
       "      <td>no data</td>\n",
       "      <td>no data</td>\n",
       "      <td>no data</td>\n",
       "      <td>...</td>\n",
       "      <td>3.9</td>\n",
       "      <td>-2.4</td>\n",
       "      <td>no data</td>\n",
       "      <td>no data</td>\n",
       "      <td>no data</td>\n",
       "      <td>no data</td>\n",
       "      <td>no data</td>\n",
       "      <td>no data</td>\n",
       "      <td>no data</td>\n",
       "      <td>no data</td>\n",
       "    </tr>\n",
       "    <tr>\n",
       "      <th>2</th>\n",
       "      <td>Albania</td>\n",
       "      <td>2.7</td>\n",
       "      <td>5.7</td>\n",
       "      <td>2.9</td>\n",
       "      <td>1.1</td>\n",
       "      <td>2</td>\n",
       "      <td>-1.5</td>\n",
       "      <td>5.6</td>\n",
       "      <td>-0.8</td>\n",
       "      <td>-1.4</td>\n",
       "      <td>...</td>\n",
       "      <td>2.1</td>\n",
       "      <td>-3.5</td>\n",
       "      <td>8.5</td>\n",
       "      <td>3.7</td>\n",
       "      <td>2.2</td>\n",
       "      <td>3.3</td>\n",
       "      <td>3.4</td>\n",
       "      <td>3.4</td>\n",
       "      <td>3.4</td>\n",
       "      <td>3.4</td>\n",
       "    </tr>\n",
       "    <tr>\n",
       "      <th>3</th>\n",
       "      <td>Algeria</td>\n",
       "      <td>-5.4</td>\n",
       "      <td>3</td>\n",
       "      <td>6.4</td>\n",
       "      <td>5.4</td>\n",
       "      <td>5.6</td>\n",
       "      <td>5.6</td>\n",
       "      <td>-0.2</td>\n",
       "      <td>-0.7</td>\n",
       "      <td>-1.9</td>\n",
       "      <td>...</td>\n",
       "      <td>1</td>\n",
       "      <td>-5.1</td>\n",
       "      <td>3.4</td>\n",
       "      <td>2.9</td>\n",
       "      <td>2.6</td>\n",
       "      <td>2.6</td>\n",
       "      <td>2.2</td>\n",
       "      <td>2.1</td>\n",
       "      <td>1.7</td>\n",
       "      <td>1.8</td>\n",
       "    </tr>\n",
       "    <tr>\n",
       "      <th>4</th>\n",
       "      <td>Andorra</td>\n",
       "      <td>no data</td>\n",
       "      <td>no data</td>\n",
       "      <td>no data</td>\n",
       "      <td>no data</td>\n",
       "      <td>no data</td>\n",
       "      <td>no data</td>\n",
       "      <td>no data</td>\n",
       "      <td>no data</td>\n",
       "      <td>no data</td>\n",
       "      <td>...</td>\n",
       "      <td>2</td>\n",
       "      <td>-11.2</td>\n",
       "      <td>8.9</td>\n",
       "      <td>8.7</td>\n",
       "      <td>1.3</td>\n",
       "      <td>1.5</td>\n",
       "      <td>1.5</td>\n",
       "      <td>1.5</td>\n",
       "      <td>1.5</td>\n",
       "      <td>1.5</td>\n",
       "    </tr>\n",
       "  </tbody>\n",
       "</table>\n",
       "<p>5 rows × 50 columns</p>\n",
       "</div>"
      ],
      "text/plain": [
       "  Real GDP growth (Annual percent change)     1980     1981     1982     1983  \\\n",
       "0                                     NaN      NaN      NaN      NaN      NaN   \n",
       "1                             Afghanistan  no data  no data  no data  no data   \n",
       "2                                 Albania      2.7      5.7      2.9      1.1   \n",
       "3                                 Algeria     -5.4        3      6.4      5.4   \n",
       "4                                 Andorra  no data  no data  no data  no data   \n",
       "\n",
       "      1984     1985     1986     1987     1988  ... 2019   2020     2021  \\\n",
       "0      NaN      NaN      NaN      NaN      NaN  ...  NaN    NaN      NaN   \n",
       "1  no data  no data  no data  no data  no data  ...  3.9   -2.4  no data   \n",
       "2        2     -1.5      5.6     -0.8     -1.4  ...  2.1   -3.5      8.5   \n",
       "3      5.6      5.6     -0.2     -0.7     -1.9  ...    1   -5.1      3.4   \n",
       "4  no data  no data  no data  no data  no data  ...    2  -11.2      8.9   \n",
       "\n",
       "      2022     2023     2024     2025     2026     2027     2028  \n",
       "0      NaN      NaN      NaN      NaN      NaN      NaN      NaN  \n",
       "1  no data  no data  no data  no data  no data  no data  no data  \n",
       "2      3.7      2.2      3.3      3.4      3.4      3.4      3.4  \n",
       "3      2.9      2.6      2.6      2.2      2.1      1.7      1.8  \n",
       "4      8.7      1.3      1.5      1.5      1.5      1.5      1.5  \n",
       "\n",
       "[5 rows x 50 columns]"
      ]
     },
     "execution_count": 114,
     "metadata": {},
     "output_type": "execute_result"
    }
   ],
   "source": [
    "# Load data into dataframe\n",
    "GDP_Growth_df = pd.read_csv('Resources/GDP Growth Data.csv')\n",
    "\n",
    "GDP_Growth_df.head()"
   ]
  },
  {
   "cell_type": "code",
   "execution_count": null,
   "metadata": {},
   "outputs": [
    {
     "data": {
      "text/html": [
       "<div>\n",
       "<style scoped>\n",
       "    .dataframe tbody tr th:only-of-type {\n",
       "        vertical-align: middle;\n",
       "    }\n",
       "\n",
       "    .dataframe tbody tr th {\n",
       "        vertical-align: top;\n",
       "    }\n",
       "\n",
       "    .dataframe thead th {\n",
       "        text-align: right;\n",
       "    }\n",
       "</style>\n",
       "<table border=\"1\" class=\"dataframe\">\n",
       "  <thead>\n",
       "    <tr style=\"text-align: right;\">\n",
       "      <th></th>\n",
       "      <th>Country</th>\n",
       "      <th>2000</th>\n",
       "      <th>2001</th>\n",
       "      <th>2002</th>\n",
       "      <th>2003</th>\n",
       "      <th>2004</th>\n",
       "      <th>2005</th>\n",
       "      <th>2006</th>\n",
       "      <th>2007</th>\n",
       "      <th>2008</th>\n",
       "      <th>2009</th>\n",
       "      <th>2010</th>\n",
       "      <th>2011</th>\n",
       "      <th>2012</th>\n",
       "      <th>2013</th>\n",
       "      <th>2014</th>\n",
       "      <th>2015</th>\n",
       "    </tr>\n",
       "  </thead>\n",
       "  <tbody>\n",
       "    <tr>\n",
       "      <th>2</th>\n",
       "      <td>Albania</td>\n",
       "      <td>6.9</td>\n",
       "      <td>8.3</td>\n",
       "      <td>4.5</td>\n",
       "      <td>5.5</td>\n",
       "      <td>5.5</td>\n",
       "      <td>5.5</td>\n",
       "      <td>5.9</td>\n",
       "      <td>6</td>\n",
       "      <td>7.5</td>\n",
       "      <td>3.4</td>\n",
       "      <td>3.7</td>\n",
       "      <td>2.5</td>\n",
       "      <td>1.4</td>\n",
       "      <td>1</td>\n",
       "      <td>1.8</td>\n",
       "      <td>2.2</td>\n",
       "    </tr>\n",
       "    <tr>\n",
       "      <th>3</th>\n",
       "      <td>Algeria</td>\n",
       "      <td>3.8</td>\n",
       "      <td>3</td>\n",
       "      <td>5.6</td>\n",
       "      <td>7.2</td>\n",
       "      <td>4.3</td>\n",
       "      <td>5.9</td>\n",
       "      <td>1.7</td>\n",
       "      <td>3.4</td>\n",
       "      <td>2.4</td>\n",
       "      <td>1.6</td>\n",
       "      <td>3.6</td>\n",
       "      <td>2.9</td>\n",
       "      <td>3.4</td>\n",
       "      <td>2.8</td>\n",
       "      <td>3.8</td>\n",
       "      <td>3.7</td>\n",
       "    </tr>\n",
       "    <tr>\n",
       "      <th>5</th>\n",
       "      <td>Angola</td>\n",
       "      <td>3.1</td>\n",
       "      <td>4.2</td>\n",
       "      <td>13.7</td>\n",
       "      <td>3</td>\n",
       "      <td>11</td>\n",
       "      <td>15</td>\n",
       "      <td>11.5</td>\n",
       "      <td>14</td>\n",
       "      <td>11.2</td>\n",
       "      <td>0.9</td>\n",
       "      <td>4.9</td>\n",
       "      <td>3.5</td>\n",
       "      <td>8.5</td>\n",
       "      <td>5</td>\n",
       "      <td>4.8</td>\n",
       "      <td>0.9</td>\n",
       "    </tr>\n",
       "    <tr>\n",
       "      <th>6</th>\n",
       "      <td>Antigua and Barbuda</td>\n",
       "      <td>6.2</td>\n",
       "      <td>-4.5</td>\n",
       "      <td>1</td>\n",
       "      <td>6.1</td>\n",
       "      <td>5.8</td>\n",
       "      <td>6.5</td>\n",
       "      <td>12.7</td>\n",
       "      <td>9.3</td>\n",
       "      <td>0</td>\n",
       "      <td>-12</td>\n",
       "      <td>-7.8</td>\n",
       "      <td>-2</td>\n",
       "      <td>3.4</td>\n",
       "      <td>-0.6</td>\n",
       "      <td>3.8</td>\n",
       "      <td>3.8</td>\n",
       "    </tr>\n",
       "    <tr>\n",
       "      <th>7</th>\n",
       "      <td>Argentina</td>\n",
       "      <td>-0.8</td>\n",
       "      <td>-4.4</td>\n",
       "      <td>-10.9</td>\n",
       "      <td>9</td>\n",
       "      <td>8.9</td>\n",
       "      <td>8.9</td>\n",
       "      <td>8</td>\n",
       "      <td>9</td>\n",
       "      <td>4.1</td>\n",
       "      <td>-5.9</td>\n",
       "      <td>10.1</td>\n",
       "      <td>6</td>\n",
       "      <td>-1</td>\n",
       "      <td>2.4</td>\n",
       "      <td>-2.5</td>\n",
       "      <td>2.7</td>\n",
       "    </tr>\n",
       "  </tbody>\n",
       "</table>\n",
       "</div>"
      ],
      "text/plain": [
       "               Country  2000  2001   2002 2003 2004 2005  2006 2007  2008  \\\n",
       "2              Albania   6.9   8.3    4.5  5.5  5.5  5.5   5.9    6   7.5   \n",
       "3              Algeria   3.8     3    5.6  7.2  4.3  5.9   1.7  3.4   2.4   \n",
       "5               Angola   3.1   4.2   13.7    3   11   15  11.5   14  11.2   \n",
       "6  Antigua and Barbuda   6.2  -4.5      1  6.1  5.8  6.5  12.7  9.3     0   \n",
       "7            Argentina  -0.8  -4.4  -10.9    9  8.9  8.9     8    9   4.1   \n",
       "\n",
       "   2009  2010 2011 2012  2013  2014 2015  \n",
       "2   3.4   3.7  2.5  1.4     1   1.8  2.2  \n",
       "3   1.6   3.6  2.9  3.4   2.8   3.8  3.7  \n",
       "5   0.9   4.9  3.5  8.5     5   4.8  0.9  \n",
       "6   -12  -7.8   -2  3.4  -0.6   3.8  3.8  \n",
       "7  -5.9  10.1    6   -1   2.4  -2.5  2.7  "
      ]
     },
     "execution_count": 115,
     "metadata": {},
     "output_type": "execute_result"
    }
   ],
   "source": [
    "# Removing rows where '1980' column has the value \"no data\"\n",
    "GDP_Growth_df = GDP_Growth_df[(GDP_Growth_df['2000'] != 'no data') & (~GDP_Growth_df['2000'].isna())]\n",
    "\n",
    "# Remove columns outside of 2000 - 2015\n",
    "GDP_Growth_df = GDP_Growth_df[['Real GDP growth (Annual percent change)', '2000', '2001', '2002', '2003', '2004', '2005', '2006','2007', '2008', '2009', '2010', '2011', '2012', '2013', '2014', '2015']]\n",
    "\n",
    "# Rename Country column\n",
    "GDP_Growth_df.rename(columns = {'Real GDP growth (Annual percent change)': 'Country'}, inplace = True)\n",
    "\n",
    "GDP_Growth_df.head()"
   ]
  },
  {
   "cell_type": "code",
   "execution_count": null,
   "metadata": {},
   "outputs": [],
   "source": [
    "# Reshape the GDP_Growth_df so that years are listed in rows instead of columns\n",
    "\n",
    "GDP_Growth_df_melted = pd.melt(GDP_Growth_df, id_vars = 'Country', var_name = 'Year', value_name = 'GDP Growth %')\n",
    "\n",
    "# Convert the 'Year' column to integers\n",
    "GDP_Growth_df_melted['Year'] = GDP_Growth_df_melted['Year'].astype(int)"
   ]
  },
  {
   "cell_type": "markdown",
   "metadata": {},
   "source": [
    "### Merge dataframes into one set"
   ]
  },
  {
   "cell_type": "code",
   "execution_count": null,
   "metadata": {},
   "outputs": [
    {
     "name": "stdout",
     "output_type": "stream",
     "text": [
      "81.6\n"
     ]
    }
   ],
   "source": [
    "# Merge the two dataframes on Country and Year\n",
    "\n",
    "Life_Exp_Report_df = pd.merge(Life_Exp_Core_df, GDP_Growth_df_melted, on = ['Country', 'Year'])\n",
    "\n",
    "# Life_Exp_Report_df\n",
    "\n",
    "max_value = Life_Exp_Report_df['BMI'].max()\n",
    "\n",
    "print(max_value)"
   ]
  },
  {
   "cell_type": "code",
   "execution_count": null,
   "metadata": {},
   "outputs": [
    {
     "data": {
      "text/plain": [
       "155"
      ]
     },
     "execution_count": 118,
     "metadata": {},
     "output_type": "execute_result"
    }
   ],
   "source": [
    "# How many countries in the combined set?\n",
    "Life_Exp_Report_df['Country'].nunique()"
   ]
  },
  {
   "cell_type": "markdown",
   "metadata": {},
   "source": [
    "### Line Chart showing life expectancy over time"
   ]
  },
  {
   "cell_type": "code",
   "execution_count": null,
   "metadata": {},
   "outputs": [
    {
     "data": {
      "image/png": "[encoded data removed]",
      "text/plain": [
       "<Figure size 1000x600 with 1 Axes>"
      ]
     },
     "metadata": {},
     "output_type": "display_data"
    }
   ],
   "source": [
    "\n",
    "# Grouping by 'Year' and 'Status' and calculating average life expectancy\n",
    "grouped_df = Life_Exp_df.groupby(['Year', 'Status'])['Life Expectancy'].mean().reset_index()\n",
    "\n",
    "# Splitting the data based on 'Status'\n",
    "developing_df = grouped_df[grouped_df['Status'] == 'Developing']\n",
    "developed_df = grouped_df[grouped_df['Status'] == 'Developed']\n",
    "\n",
    "# Creating the line chart\n",
    "plt.figure(figsize=(10, 6))  \n",
    "\n",
    "# Line plot for 'Developing' status\n",
    "plt.plot(developing_df['Year'], developing_df['Life Expectancy'], label='Developing', marker='o')\n",
    "\n",
    "# Line plot for 'Developed' status\n",
    "plt.plot(developed_df['Year'], developed_df['Life Expectancy'], label='Developed', marker='o')\n",
    "\n",
    "plt.xlabel('Year')\n",
    "plt.ylabel('Average Life Expectancy')\n",
    "plt.title('Average Life Expectancy by Year and Status')\n",
    "plt.ylim(0, 100)\n",
    "plt.legend()\n",
    "plt.xticks(rotation=45) \n",
    "\n",
    "plt.show()"
   ]
  },
  {
   "cell_type": "markdown",
   "metadata": {},
   "source": [
    "### Scatter Plot showing Life Expectancy vs. Population"
   ]
  },
  {
   "cell_type": "code",
   "execution_count": null,
   "metadata": {},
   "outputs": [
    {
     "data": {
      "image/png": "[encoded data removed]",
      "text/plain": [
       "<Figure size 1000x600 with 1 Axes>"
      ]
     },
     "metadata": {},
     "output_type": "display_data"
    }
   ],
   "source": [
    "# Group by 'Country' and calculate the average 'Life Expectancy' and total 'Population'\n",
    "grouped_df = Life_Exp_df.groupby('Country').agg({\n",
    "    'Life Expectancy': 'mean',\n",
    "    'Population': 'max'\n",
    "}).reset_index()\n",
    "\n",
    "# Reverse the x and y-axis data\n",
    "x = grouped_df['Life Expectancy']\n",
    "y = grouped_df['Population']\n",
    "\n",
    "# Convert population values to millions for labeling\n",
    "y_labels_millions = [val / 1000000 for val in y]\n",
    "\n",
    "plt.figure(figsize=(10, 6))  # Adjust the size of the plot as needed.\n",
    "plt.scatter(x, y, alpha=0.5)  # 'alpha' controls the transparency of the points.\n",
    "\n",
    "plt.xlabel('Life Expectancy')\n",
    "plt.ylabel('Population (Millions)')  # Label the y-axis with population in millions\n",
    "plt.title('Scatter Plot: Population vs. Life Expectancy by Country')\n",
    "\n",
    "plt.grid(True)  # Add a grid to the plot.\n",
    "plt.tight_layout()  # Improve spacing between elements.\n",
    "\n",
    "# Format y-axis labels to display population in millions\n",
    "plt.gca().get_yaxis().set_major_formatter(plt.FuncFormatter(lambda x, loc: \"{:,}\".format(int(x))))\n",
    "\n",
    "plt.show()  # Display the plot."
   ]
  },
  {
   "cell_type": "code",
   "execution_count": null,
   "metadata": {},
   "outputs": [
    {
     "name": "stderr",
     "output_type": "stream",
     "text": [
      "/var/folders/ds/jk39g9xd62v_5kxdlxcxn0800000gn/T/ipykernel_1723/2606399926.py:1: UserWarning: Boolean Series key will be reindexed to match DataFrame index.\n",
      "  Outliers_df = grouped_df[Life_Exp_df['Population'] > 40000000]\n"
     ]
    },
    {
     "data": {
      "text/html": [
       "<div>\n",
       "<style scoped>\n",
       "    .dataframe tbody tr th:only-of-type {\n",
       "        vertical-align: middle;\n",
       "    }\n",
       "\n",
       "    .dataframe tbody tr th {\n",
       "        vertical-align: top;\n",
       "    }\n",
       "\n",
       "    .dataframe thead th {\n",
       "        text-align: right;\n",
       "    }\n",
       "</style>\n",
       "<table border=\"1\" class=\"dataframe\">\n",
       "  <thead>\n",
       "    <tr style=\"text-align: right;\">\n",
       "      <th></th>\n",
       "      <th>Country</th>\n",
       "      <th>Life Expectancy</th>\n",
       "      <th>Population</th>\n",
       "    </tr>\n",
       "  </thead>\n",
       "  <tbody>\n",
       "    <tr>\n",
       "      <th>80</th>\n",
       "      <td>Ireland</td>\n",
       "      <td>80.1500</td>\n",
       "      <td>4676835.0</td>\n",
       "    </tr>\n",
       "    <tr>\n",
       "      <th>81</th>\n",
       "      <td>Israel</td>\n",
       "      <td>81.3000</td>\n",
       "      <td>82157.0</td>\n",
       "    </tr>\n",
       "    <tr>\n",
       "      <th>82</th>\n",
       "      <td>Italy</td>\n",
       "      <td>82.1875</td>\n",
       "      <td>59539717.0</td>\n",
       "    </tr>\n",
       "    <tr>\n",
       "      <th>84</th>\n",
       "      <td>Japan</td>\n",
       "      <td>82.5375</td>\n",
       "      <td>127854.0</td>\n",
       "    </tr>\n",
       "    <tr>\n",
       "      <th>85</th>\n",
       "      <td>Jordan</td>\n",
       "      <td>72.9875</td>\n",
       "      <td>8413464.0</td>\n",
       "    </tr>\n",
       "  </tbody>\n",
       "</table>\n",
       "</div>"
      ],
      "text/plain": [
       "    Country  Life Expectancy  Population\n",
       "80  Ireland          80.1500   4676835.0\n",
       "81   Israel          81.3000     82157.0\n",
       "82    Italy          82.1875  59539717.0\n",
       "84    Japan          82.5375    127854.0\n",
       "85   Jordan          72.9875   8413464.0"
      ]
     },
     "execution_count": 121,
     "metadata": {},
     "output_type": "execute_result"
    }
   ],
   "source": [
    "Outliers_df = grouped_df[Life_Exp_df['Population'] > 40000000]\n",
    "Outliers_df"
   ]
  },
  {
   "cell_type": "code",
   "execution_count": null,
   "metadata": {},
   "outputs": [
    {
     "data": {
      "image/png": "[encoded data removed]",
      "text/plain": [
       "<Figure size 640x480 with 1 Axes>"
      ]
     },
     "metadata": {},
     "output_type": "display_data"
    }
   ],
   "source": [
    "x_values = Life_Exp_Core_df['Year']\n",
    "y_values = Life_Exp_Core_df['BMI']\n",
    "\n",
    "plt\n",
    "plt.xlabel('Year')\n",
    "plt.ylabel('BMI')\n",
    "plt.show()\n",
    "\n"
   ]
  },
  {
   "cell_type": "code",
   "execution_count": null,
   "metadata": {},
   "outputs": [
    {
     "ename": "NameError",
     "evalue": "name 'DataFrame' is not defined",
     "output_type": "error",
     "traceback": [
      "\u001b[0;31m---------------------------------------------------------------------------\u001b[0m",
      "\u001b[0;31mNameError\u001b[0m                                 Traceback (most recent call last)",
      "Cell \u001b[0;32mIn[108], line 3\u001b[0m\n\u001b[1;32m      1\u001b[0m Life_Exp_Core_df[[\u001b[39m'\u001b[39m\u001b[39mBMI\u001b[39m\u001b[39m'\u001b[39m, \u001b[39m'\u001b[39m\u001b[39mYear\u001b[39m\u001b[39m'\u001b[39m]]\u001b[39m.\u001b[39mboxplot()\n\u001b[0;32m----> 3\u001b[0m DataFrame\u001b[39m.\u001b[39mboxplot(column\u001b[39m=\u001b[39m\u001b[39mNone\u001b[39;00m, by\u001b[39m=\u001b[39m\u001b[39mNone\u001b[39;00m, ax\u001b[39m=\u001b[39m\u001b[39mNone\u001b[39;00m, fontsize\u001b[39m=\u001b[39m\u001b[39mNone\u001b[39;00m, rot\u001b[39m=\u001b[39m\u001b[39m0\u001b[39m, grid\u001b[39m=\u001b[39m\u001b[39mTrue\u001b[39;00m, figsize\u001b[39m=\u001b[39m\u001b[39mNone\u001b[39;00m, layout\u001b[39m=\u001b[39m\u001b[39mNone\u001b[39;00m, return_type\u001b[39m=\u001b[39m\u001b[39mNone\u001b[39;00m, backend\u001b[39m=\u001b[39m\u001b[39mNone\u001b[39;00m, \u001b[39m*\u001b[39m\u001b[39m*\u001b[39mkwargs)\n",
      "\u001b[0;31mNameError\u001b[0m: name 'DataFrame' is not defined"
     ]
    },
    {
     "data": {
      "image/png": "[encoded data removed]",
      "text/plain": [
       "<Figure size 640x480 with 1 Axes>"
      ]
     },
     "metadata": {},
     "output_type": "display_data"
    }
   ],
   "source": [
    "\n",
    "Life_Exp_Core_df[['BMI', 'Year']].boxplot()\n",
    "\n",
    "DataFrame.boxplot(column=None, by=None, ax=None, fontsize=None, rot=0, grid=True, figsize=None, layout=None, return_type=None, backend=None, **kwargs)\n"
   ]
  },
  {
   "cell_type": "code",
   "execution_count": null,
   "metadata": {},
   "outputs": [],
   "source": [
    "# Calculate average BMI and Life Expectancy grouped by 'Country'\n",
    "\n",
    "avg_data = Life_Exp_Report_df.groupby('Country').mean([['BMI', 'Life Expectancy']])\n",
    "\n",
    "x_avg = avg_data['BMI']\n",
    "y_avg = avg_data['Life Expectancy']\n",
    "\n",
    "plt.figure(figsize=(10, 6))  \n",
    "plt.scatter(x_avg, y_avg, alpha=0.5)  \n",
    "\n",
    "plt.xlabel('BMI')\n",
    "plt.ylabel('Life Expectancy')\n",
    "plt.title('Scatter Plot: Average BMI vs. Average Life Expectancy by Country')\n",
    "\n",
    "plt.grid(True)\n",
    "plt.tight_layout()\n",
    "\n",
    "# Format y-axis labels to display population in millions (if needed)\n",
    "# plt.gca().get_yaxis().set_major_formatter(plt.FuncFormatter(lambda x, loc: \"{:,}\".format(int(x))))\n",
    "\n",
    "plt.show()\n"
   ]
  },
  {
   "cell_type": "code",
   "execution_count": null,
   "metadata": {},
   "outputs": [],
   "source": [
    "import pandas as pd\n",
    "import matplotlib.pyplot as plt\n",
    "from scipy.stats import linregress\n",
    "\n",
    "# Assuming you have a DataFrame named 'Life_Exp_Report_df' with columns 'Country', 'BMI', and 'Life Expectancy'\n",
    "\n",
    "# Calculate average BMI and Life Expectancy grouped by 'Country'\n",
    "avg_data = Life_Exp_Report_df.groupby('Country').mean([['BMI', 'Life Expectancy']])\n",
    "\n",
    "x_avg = avg_data['BMI']\n",
    "y_avg = avg_data['Life Expectancy']\n",
    "\n",
    "plt.figure(figsize=(10, 6))  \n",
    "plt.scatter(x_avg, y_avg, alpha=0.5)  \n",
    "\n",
    "plt.xlabel('BMI')\n",
    "plt.ylabel('Life Expectancy')\n",
    "plt.title('Scatter Plot: Average BMI vs. Average Life Expectancy by Country')\n",
    "\n",
    "# Calculate the linear regression\n",
    "slope, intercept, r_value, p_value, std_err = linregress(x_avg, y_avg)\n",
    "\n",
    "# Create the linear regression line using the calculated slope and intercept\n",
    "regression_line = slope * x_avg + intercept\n",
    "\n",
    "# Plot the linear regression line\n",
    "plt.plot(x_avg, regression_line, color='red', linewidth=2)\n",
    "\n",
    "plt.grid(True)\n",
    "plt.tight_layout()\n",
    "\n",
    "# Format y-axis labels to display population in millions (if needed)\n",
    "# plt.gca().get_yaxis().set_major_formatter(plt.FuncFormatter(lambda x, loc: \"{:,}\".format(int(x))))\n",
    "\n",
    "plt.show()"
   ]
  },
  {
   "cell_type": "markdown",
   "metadata": {},
   "source": [
    "### attempt to Access World Health Organization's data directly using 'GHO' API"
   ]
  },
  {
   "cell_type": "code",
   "execution_count": null,
   "metadata": {},
   "outputs": [],
   "source": [
    "\n",
    "# Retrieving the list of available dimensions\n",
    "# Simply specifying the /api/DIMENSION URL will provide you with the list of available dimension codes. \n",
    "# The default result is returned in the Observatory's XML schema. \n",
    "\n",
    "url = \"https://ghoapi.azureedge.net/api/Dimension/ASSISTIVETECHSATISERVICE\"\n",
    "\n",
    "response = requests.get(url)\n",
    "\n",
    "if response.status_code == 200:\n",
    "    data = response.json()\n",
    "else:\n",
    "    print(\"Failed to fetch data. Status code:\", response.status_code)\n",
    "\n",
    "data"
   ]
  },
  {
   "cell_type": "code",
   "execution_count": null,
   "metadata": {},
   "outputs": [],
   "source": [
    "# Attempt to request specific data\n",
    "\n",
    "base_url = \"https://frontdoor-r5quteqglawbs.azurefd.net/HEM/\"\n",
    "\n",
    "response = requests.get(base_url)\n",
    "\n",
    "if response.status_code == 200:\n",
    "    data = response.json()\n",
    "else:\n",
    "    print(\"Failed to fetch data. Status code:\", response.status_code)\n",
    "\n",
    "data"
   ]
  },
  {
   "cell_type": "code",
   "execution_count": null,
   "metadata": {},
   "outputs": [],
   "source": [
    "# append dataset url to end of base_url\n",
    "\n",
    "data_url = base_url + \"rep_gho_tobacco\"\n",
    "\n",
    "response = requests.get(data_url)\n",
    "\n",
    "if response.status_code == 200:\n",
    "    data = response.json()\n",
    "else:\n",
    "    print(\"Failed to fetch data. Status code:\", response.status_code)\n",
    "\n",
    "print(data_url)\n",
    "\n",
    "data\n",
    "\n"
   ]
  }
 ],
 "metadata": {
  "kernelspec": {
   "display_name": "Python 3",
   "language": "python",
   "name": "python3"
  },
  "language_info": {
   "codemirror_mode": {
    "name": "ipython",
    "version": 3
   },
   "file_extension": ".py",
   "mimetype": "text/x-python",
   "name": "python",
   "nbconvert_exporter": "python",
   "pygments_lexer": "ipython3",
   "version": "3.9.6"
  },
  "orig_nbformat": 4
 },
 "nbformat": 4,
 "nbformat_minor": 2
}
