{
 "cells": [
  {
   "cell_type": "markdown",
   "metadata": {},
   "source": [
    "# Life Expectancy Datasets"
   ]
  },
  {
   "cell_type": "code",
   "execution_count": null,
   "metadata": {},
   "outputs": [],
   "source": [
    "# Dependencies and setup\n",
    "\n",
    "import pandas as pd\n",
    "import requests\n",
    "import matplotlib.pyplot as plt"
   ]
  },
  {
   "cell_type": "markdown",
   "metadata": {},
   "source": [
    "### Life Expectancy Dataset loaded and cleaned\n",
    "#### Life_Exp_df"
   ]
  },
  {
   "cell_type": "code",
   "execution_count": null,
   "metadata": {},
   "outputs": [],
   "source": [
    "Life_Exp_Male_df = pd.read_csv('Resources/WHO Life Expectancy Male.csv')\n",
    "Life_Exp_Female_df = pd.read_csv('Resources/WHO Life Expectancy Female.csv')\n",
    "\n",
    "# Rows with little or no data were removed from CSV file, easier to do in Excel. \n",
    "\n",
    "# Columns need to be converted to row data\n",
    "Life_Exp_Male_df = pd.melt(Life_Exp_Male_df, id_vars = 'Country', var_name = 'Year', value_name = 'Life Expectancy Male')\n",
    "Life_Exp_Female_df = pd.melt(Life_Exp_Female_df, id_vars = 'Country', var_name = 'Year', value_name = 'Life Expectancy Female')\n",
    "\n",
    "# Merge Male / Female Data \n",
    "Life_Exp_df = pd.merge(Life_Exp_Male_df, Life_Exp_Female_df, on = ['Country', 'Year'])\n",
    "\n",
    "# Reduce decimal places to 1\n",
    "Life_Exp_df['Life Expectancy Male'] = Life_Exp_df['Life Expectancy Male'].round(1)\n",
    "Life_Exp_df['Life Expectancy Female'] = Life_Exp_df['Life Expectancy Female'].round(1)\n",
    "\n",
    "Life_Exp_df.head()"
   ]
  },
  {
   "cell_type": "markdown",
   "metadata": {},
   "source": [
    "### Population Dataset loaded and cleaned\n",
    "#### Population_df\n",
    "#### All_Data_df"
   ]
  },
  {
   "cell_type": "code",
   "execution_count": null,
   "metadata": {},
   "outputs": [],
   "source": [
    "Population_df = pd.read_csv('Resources/WHO Population.csv')\n",
    "\n",
    "# Columns need to be converted to row data\n",
    "Population_df = pd.melt(Population_df, id_vars = 'Country', var_name = 'Year', value_name = 'Population')\n",
    "\n",
    "# Merge Population with Main dataset\n",
    "All_Data_df = pd.merge(Life_Exp_df, Population_df,on = ['Country', 'Year'])\n",
    "\n",
    "All_Data_df.head()"
   ]
  },
  {
   "cell_type": "markdown",
   "metadata": {},
   "source": [
    "### Territory (in Sq Kilometers) loaded and cleaned\n",
    "#### Territory_df\n",
    "#### All_Data_df"
   ]
  },
  {
   "cell_type": "code",
   "execution_count": null,
   "metadata": {},
   "outputs": [],
   "source": [
    "Territory_df = pd.read_csv('Resources/WB Square km.csv')\n",
    "\n",
    "All_Data_df = pd.merge(All_Data_df, Territory_df, on=['Country'], how='left')\n",
    "All_Data_df.fillna('', inplace = True)\n",
    "All_Data_df.head()"
   ]
  },
  {
   "cell_type": "markdown",
   "metadata": {},
   "source": [
    "### GDP Dataset loaded and cleaned\n",
    "#### GDP_df\n",
    "#### All_Data_df"
   ]
  },
  {
   "cell_type": "code",
   "execution_count": null,
   "metadata": {},
   "outputs": [],
   "source": [
    "GDP_df = pd.read_csv('Resources/WHO GDP.csv')\n",
    "\n",
    "# Columns need to be converted to row data\n",
    "GDP_df = pd.melt(GDP_df, id_vars = 'Country', var_name = 'Year', value_name = 'GDP')\n",
    "\n",
    "# Change any NaN values to \"\"\n",
    "GDP_df.fillna('', inplace = True)\n",
    "\n",
    "pd.set_option('display.float_format', '{:,.0f}'.format)\n",
    "\n",
    "GDP_df.head()"
   ]
  },
  {
   "cell_type": "code",
   "execution_count": null,
   "metadata": {},
   "outputs": [],
   "source": [
    "All_Data_df = pd.merge(All_Data_df, GDP_df, on=['Country', 'Year'], how='left')\n",
    "\n",
    "# Change any NaN values to \"\"\n",
    "All_Data_df.fillna('', inplace = True)\n",
    "All_Data_df.head()"
   ]
  },
  {
   "cell_type": "markdown",
   "metadata": {},
   "source": [
    "### OECD GDP Growth Dataset loaded and cleaned\n",
    "#### GDP_Growth_df\n",
    "#### All_Data_df"
   ]
  },
  {
   "cell_type": "code",
   "execution_count": null,
   "metadata": {},
   "outputs": [],
   "source": [
    "# Load data into dataframe\n",
    "GDP_Growth_df = pd.read_csv('Resources/OECD GDP Growth Data.csv')\n",
    "\n",
    "# Replace all 'no data' cells wth ' '\n",
    "GDP_Growth_df.replace('no data', '', inplace=True)\n",
    "GDP_Growth_df.fillna('', inplace = True)\n",
    "\n",
    "# Reshape the GDP_Growth_df so that years are listed in rows instead of columns\n",
    "GDP_Growth_df = pd.melt(GDP_Growth_df, id_vars = 'Country', var_name = 'Year', value_name = 'GDP Growth %')\n",
    "\n",
    "GDP_Growth_df.head()"
   ]
  },
  {
   "cell_type": "code",
   "execution_count": null,
   "metadata": {},
   "outputs": [],
   "source": [
    "All_Data_df = pd.merge(All_Data_df, GDP_Growth_df, on = ['Country', 'Year'], how='left')\n",
    "All_Data_df.fillna('', inplace = True)\n",
    "All_Data_df.head()"
   ]
  },
  {
   "cell_type": "markdown",
   "metadata": {},
   "source": [
    "### Clean Water loaded and cleaned\n",
    "#### Clean_Water_df\n",
    "#### All_Data_df"
   ]
  },
  {
   "cell_type": "code",
   "execution_count": null,
   "metadata": {},
   "outputs": [],
   "source": [
    "Clean_Water_df = pd.read_csv('Resources/WHO Access to Clean Water.csv')\n",
    "Clean_Water_df.head()\n",
    "\n",
    "Clean_Water_df = pd.melt(Clean_Water_df, id_vars = 'Country', var_name = 'Year', value_name = '% Population with Clean Water')\n",
    "\n",
    "Clean_Water_df.head()"
   ]
  },
  {
   "cell_type": "code",
   "execution_count": null,
   "metadata": {},
   "outputs": [],
   "source": [
    "Clean_Water_df['Country'].nunique()"
   ]
  },
  {
   "cell_type": "code",
   "execution_count": null,
   "metadata": {},
   "outputs": [],
   "source": [
    "All_Data_df = pd.merge(All_Data_df, Clean_Water_df, on = ['Country', 'Year'], how='left')\n",
    "All_Data_df.fillna('', inplace = True)\n",
    "All_Data_df.head()"
   ]
  },
  {
   "cell_type": "markdown",
   "metadata": {},
   "source": [
    "### Sanitation loaded and cleaned\n",
    "#### Sanitation_df\n",
    "#### All_Data_df"
   ]
  },
  {
   "cell_type": "code",
   "execution_count": null,
   "metadata": {},
   "outputs": [],
   "source": [
    "Sanitation_df = pd.read_csv('Resources/WHO Access to Sanitation.csv')\n",
    "\n",
    "Sanitation_df = pd.melt(Sanitation_df, id_vars = 'Country', var_name = 'Year', value_name = '% Population with Sanitation')\n",
    "\n",
    "Sanitation_df.head()"
   ]
  },
  {
   "cell_type": "code",
   "execution_count": null,
   "metadata": {},
   "outputs": [],
   "source": [
    "All_Data_df = pd.merge(All_Data_df, Sanitation_df, on=['Country', 'Year'], how='left')\n",
    "# Change any NaN values to \"\"\n",
    "All_Data_df.fillna('', inplace = True)\n",
    "All_Data_df.head()"
   ]
  },
  {
   "cell_type": "markdown",
   "metadata": {},
   "source": [
    "# Life Expectancy Visualizations"
   ]
  },
  {
   "cell_type": "markdown",
   "metadata": {},
   "source": [
    "### Line Chart showing life expectancy over time"
   ]
  },
  {
   "cell_type": "code",
   "execution_count": null,
   "metadata": {},
   "outputs": [],
   "source": [
    "# non-numeric values need to be coerced\n",
    "Life_Exp_df['Life Expectancy Male'] = pd.to_numeric(Life_Exp_df['Life Expectancy Male'], errors='coerce')\n",
    "Life_Exp_df['Life Expectancy Female'] = pd.to_numeric(Life_Exp_df['Life Expectancy Female'], errors='coerce')\n",
    "\n",
    "m_df = Life_Exp_df[Life_Exp_df['Year'] != '2022']\n",
    "f_df = Life_Exp_df[Life_Exp_df['Year'] != '2022']\n",
    "\n",
    "# Grouping by 'Year' and 'Status' and calculating average life expectancy\n",
    "m_grouped_df = m_df.groupby(['Year'])['Life Expectancy Male'].mean().reset_index()\n",
    "f_grouped_df = f_df.groupby(['Year'])['Life Expectancy Female'].mean().reset_index()\n",
    "\n",
    "# Creating the line chart\n",
    "plt.figure(figsize =(12, 6))  \n",
    "\n",
    "# Line plot for Males\n",
    "plt.plot(m_grouped_df['Year'], m_grouped_df['Life Expectancy Male'], label='males', marker='o')\n",
    "\n",
    "# Line plot for Females\n",
    "plt.plot(f_grouped_df['Year'], f_grouped_df['Life Expectancy Female'], label='females', marker='o', color='pink')\n",
    "\n",
    "plt.xlabel('Year')\n",
    "plt.ylabel('Average Life Expectancy')\n",
    "plt.title('Average Life Expectancy by Year and Sex')\n",
    "plt.ylim(0, 100)\n",
    "plt.legend()\n",
    "plt.xticks(rotation=-90) \n",
    "\n",
    "plt.show()"
   ]
  },
  {
   "cell_type": "code",
   "execution_count": null,
   "metadata": {},
   "outputs": [],
   "source": [
    "m_grouped_df['Life Expectancy Male'].dtype"
   ]
  },
  {
   "cell_type": "markdown",
   "metadata": {},
   "source": [
    "### Scatter Plot showing Life Expectancy vs. Population"
   ]
  },
  {
   "cell_type": "code",
   "execution_count": null,
   "metadata": {},
   "outputs": [],
   "source": [
    "# Convert 'Life Expectancy Male' and 'Life Expectancy Female' columns to numeric, replacing empty strings with NaN\n",
    "All_Data_df['Life Expectancy Male'] = pd.to_numeric(All_Data_df['Life Expectancy Male'], errors='coerce')\n",
    "All_Data_df['Life Expectancy Female'] = pd.to_numeric(All_Data_df['Life Expectancy Female'], errors='coerce')\n",
    "\n",
    "# Calculate the average life expectancy by averaging 'Life Expectancy Male' and 'Life Expectancy Female' columns\n",
    "All_Data_df['Average Life Expectancy'] = (All_Data_df['Life Expectancy Male'] + All_Data_df['Life Expectancy Female']) / 2\n",
    "\n",
    "# Group by 'Country' and calculate the average 'Average Life Expectancy' and total 'Population'\n",
    "grouped_df = All_Data_df.groupby('Country').agg({\n",
    "    'Average Life Expectancy': 'mean',\n",
    "    'Population': 'max'\n",
    "}).reset_index()\n",
    "\n",
    "# Remove rows with NaN values (if any) after calculating the average\n",
    "grouped_df = grouped_df.dropna()\n",
    "\n",
    "# Reverse the x and y-axis data\n",
    "x = grouped_df['Average Life Expectancy']\n",
    "y = grouped_df['Population']\n",
    "\n",
    "# Convert population values to millions for labeling\n",
    "y_labels_millions = [val / 1e6 for val in y]\n",
    "\n",
    "plt.figure(figsize=(10, 6))\n",
    "plt.scatter(x, y, alpha=0.5)\n",
    "\n",
    "plt.xlabel('Average Life Expectancy')\n",
    "plt.ylabel('Population (Millions)')\n",
    "plt.title('Scatter Plot: Population vs. Average Life Expectancy by Country')\n",
    "\n",
    "plt.grid(True)\n",
    "plt.tight_layout()\n",
    "\n",
    "# Format y-axis labels to display population in millions\n",
    "plt.gca().get_yaxis().set_major_formatter(plt.FuncFormatter(lambda x, loc: \"{:,}\".format(int(x))))\n",
    "\n",
    "plt.show()\n",
    "\n",
    "\n"
   ]
  },
  {
   "cell_type": "code",
   "execution_count": null,
   "metadata": {},
   "outputs": [],
   "source": [
    "Outliers_df = grouped_df[Life_Exp_df['Population'] > 40000000]\n",
    "Outliers_df"
   ]
  },
  {
   "cell_type": "code",
   "execution_count": null,
   "metadata": {},
   "outputs": [],
   "source": [
    "import pandas as pd\n",
    "import matplotlib.pyplot as plt\n",
    "from scipy.stats import linregress\n",
    "\n",
    "# Assuming you have a DataFrame named 'Life_Exp_Report_df' with columns 'Country', 'BMI', and 'Life Expectancy'\n",
    "\n",
    "# Calculate average BMI and Life Expectancy grouped by 'Country'\n",
    "avg_data = Life_Exp_Report_df.groupby('Country').mean([['BMI', 'Life Expectancy']])\n",
    "\n",
    "x_avg = avg_data['BMI']\n",
    "y_avg = avg_data['Life Expectancy']\n",
    "\n",
    "plt.figure(figsize=(10, 6))  \n",
    "plt.scatter(x_avg, y_avg, alpha=0.5)  \n",
    "\n",
    "plt.xlabel('BMI')\n",
    "plt.ylabel('Life Expectancy')\n",
    "plt.title('Scatter Plot: Average BMI vs. Average Life Expectancy by Country')\n",
    "\n",
    "# Calculate the linear regression\n",
    "slope, intercept, r_value, p_value, std_err = linregress(x_avg, y_avg)\n",
    "\n",
    "# Create the linear regression line using the calculated slope and intercept\n",
    "regression_line = slope * x_avg + intercept\n",
    "\n",
    "# Plot the linear regression line\n",
    "plt.plot(x_avg, regression_line, color='red', linewidth=2)\n",
    "\n",
    "plt.grid(True)\n",
    "plt.tight_layout()\n",
    "\n",
    "# Format y-axis labels to display population in millions (if needed)\n",
    "# plt.gca().get_yaxis().set_major_formatter(plt.FuncFormatter(lambda x, loc: \"{:,}\".format(int(x))))\n",
    "\n",
    "plt.show()"
   ]
  },
  {
   "cell_type": "code",
   "execution_count": null,
   "metadata": {},
   "outputs": [],
   "source": [
    "import geopandas as gpd\n",
    "import pandas as pd\n",
    "import matplotlib.pyplot as plt\n",
    "# Load the built-in world dataset from geopandas\n",
    "world = gpd.read_file(gpd.datasets.get_path('naturalearth_lowres'))\n",
    "# Generate sample data for visualization\n",
    "data = {\n",
    "    'country': ['United States', 'Canada', 'Mexico'],\n",
    "    'gdp_value': ['United States', 'Canada', 'Mexico']\n",
    "}\n",
    "gdp_df = pd.DataFrame(data)\n",
    "# Merge GeoDataFrame with DataFrame based on country names\n",
    "merged_gdf = world.merge(gdp_df, left_on='name', right_on='country', how='left')\n",
    "# Set up the figure and axis\n",
    "fig, ax = plt.subplots(1, figsize=(12, 8))\n",
    "# Plot the choropleth map\n",
    "merged_gdf.plot(column='gdp_value', cmap='OrRd', linewidth=0.8, ax=ax, edgecolor='0.8', legend=True)\n",
    "# Customize the plot (optional)\n",
    "ax.set_title('World GDP Choropleth Map')\n",
    "ax.axis('off')\n",
    "# Show the plot\n",
    "plt.show()\n"
   ]
  },
  {
   "cell_type": "code",
   "execution_count": null,
   "metadata": {},
   "outputs": [],
   "source": [
    "import geopandas as gpd\n",
    "import pandas as pd\n",
    "import matplotlib.pyplot as plt\n",
    "# Load the built-in world dataset from geopandas\n",
    "world = gpd.read_file(gpd.datasets.get_path(' '))\n",
    "# Generate sample data for visualization\n",
    "data = {\n",
    "    'country': ['United States', 'Canada', 'Mexico'],\n",
    "    'gdp_value': ['United States', 'Canada', 'Mexico']\n",
    "}\n",
    "gdp_df = pd.DataFrame(data)\n",
    "# Merge GeoDataFrame with DataFrame based on country names\n",
    "merged_gdf = world.merge(gdp_df, left_on='name', right_on='country', how='left')\n",
    "# Set up the figure and axis\n",
    "fig, ax = plt.subplots(1, figsize=(12, 8))\n",
    "# Plot the choropleth map\n",
    "merged_gdf.plot(column='gdp_value', cmap='OrRd', linewidth=0.8, ax=ax, edgecolor='0.8', legend=True)\n",
    "# Customize the plot (optional)\n",
    "ax.set_title('World GDP Choropleth Map')\n",
    "ax.axis('off')\n",
    "# Show the plot\n",
    "plt.show()"
   ]
  },
  {
   "cell_type": "code",
   "execution_count": null,
   "metadata": {},
   "outputs": [],
   "source": [
    "# Replace the codes in the 'state' column with the corresponding state names\n",
    "data['state'] = data['state'].map(state_codes)\n",
    "\n",
    "# Save the updated dataset to a new CSV file or update the original file if needed\n",
    "data.to_csv('Updated_BMI_Life_data(State).csv', index=False)"
   ]
  }
 ],
 "metadata": {
  "kernelspec": {
   "display_name": "Python 3",
   "language": "python",
   "name": "python3"
  },
  "language_info": {
   "codemirror_mode": {
    "name": "ipython",
    "version": 3
   },
   "file_extension": ".py",
   "mimetype": "text/x-python",
   "name": "python",
   "nbconvert_exporter": "python",
   "pygments_lexer": "ipython3",
   "version": "3.9.6"
  },
  "orig_nbformat": 4
 },
 "nbformat": 4,
 "nbformat_minor": 2
}
